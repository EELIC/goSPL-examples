{
 "cells": [
  {
   "cell_type": "code",
   "execution_count": null,
   "metadata": {},
   "outputs": [],
   "source": [
    "import numpy as np\n",
    "import xarray as xr\n",
    "import uxarray as uxr\n",
    "\n",
    "# On Docker turn off the warning on PROJ by specifying the PROJ lib path (uncomment the following line)\n",
    "#os.environ['PROJ_LIB'] = '/opt/conda/envs/gospl/share/proj'\n",
    "\n",
    "import warnings\n",
    "warnings.simplefilter(action='ignore', category=FutureWarning)\n",
    "\n",
    "from scripts import umeshFcts as ufcts"
   ]
  },
  {
   "cell_type": "markdown",
   "metadata": {},
   "source": [
    "# Create a global mesh for goSPL\n",
    "\n",
    "Create an unstructured grid for a given cell width. The method relies on the UXarray and jigsaw libraries.\n",
    "\n",
    "**In case where the mesh already exists it will not be recreated.**\n",
    "\n",
    "Spherical mesh resolution km\n",
    "\n",
    "| cell_width | edge_min  | edge_max | edge_mean | nodeNb |\n",
    "| ---------- | ----------  | ---------- | ---------- | ---------- |\n",
    "| 5 | 1.1 | 4.5 | 2.8 | 23632811 |\n",
    "| 8 |  1.8 | 7.2 | 4.6  | 9236387 | \n",
    "| 10 | 2.2 | 8.9 | 5.7 | 5912778 |\n",
    "| 15 | 3.3 | 13.1 | 8.6 | 2629742 |\n",
    "| 20 | 4.5 | 18 | 11.5 | 1480168 |\n",
    "| 25 | 5.6 | 22.4 | 14.4 | 947701 |\n",
    "| 30 | 6.8 | 26.4 | 17.2 | 658525 |\n",
    "| 35 | 8 | 30.5 | 20.1 |  484009 |"
   ]
  },
  {
   "cell_type": "code",
   "execution_count": null,
   "metadata": {},
   "outputs": [],
   "source": [
    "widthCell = 30\n",
    "input_path = \"input_\"+str(widthCell) \n",
    "\n",
    "# Build the mesh\n",
    "ufcts.buildGlobalMeshSimple(widthCell, input_path)"
   ]
  },
  {
   "cell_type": "markdown",
   "metadata": {},
   "source": [
    "## Map variables on the UGRID \n",
    "\n",
    "We will now map global variables on this unstructured grid. In goSPL, typical variables would be:\n",
    "\n",
    "- elevation (in m)\n",
    "- vertical and horizontal tectonic forcing (displacement rates in m/yr)\n",
    "- precipitation (in m/yr)\n",
    "- dynamic topography (in m/yr)\n",
    "\n",
    "Usually they will be provided in the form of `netcdf` or `geotiff` files. In both cases, the `xarray` or `rioxarray` libraries will allow you to open those files conveniently.\n",
    "\n",
    "> Here we will use a netcdf grid containing all of these variables (except dynamic topography) for a give time interval."
   ]
  },
  {
   "cell_type": "code",
   "execution_count": null,
   "metadata": {},
   "outputs": [],
   "source": [
    "# Loading the nc regular file\n",
    "ncgrid = xr.open_dataset('data/250.nc')"
   ]
  },
  {
   "cell_type": "markdown",
   "metadata": {},
   "source": [
    "In case the file contains more variables than the ones you need for goSPL, you can select only the necessary ones:"
   ]
  },
  {
   "cell_type": "code",
   "execution_count": null,
   "metadata": {},
   "outputs": [],
   "source": [
    "ncgrid = ncgrid[['h','vx','vy','vz','rain']]\n",
    "ncgrid"
   ]
  },
  {
   "cell_type": "code",
   "execution_count": null,
   "metadata": {},
   "outputs": [],
   "source": [
    "# Loading the UGRID file\n",
    "ufile = input_path+'/mesh_'+str(widthCell)+'km.nc'\n",
    "ugrid = uxr.open_grid(ufile) \n",
    "# ugrid\n",
    "\n",
    "# Perform the interpolation (bilinear) \n",
    "var_path = 'vars_'+str(widthCell)\n",
    "var_name = 'step_250'\n",
    "ufcts.inter2UGRID(ncgrid,ugrid,var_path,var_name,type='face')"
   ]
  },
  {
   "cell_type": "markdown",
   "metadata": {},
   "source": [
    "In the `var_path` folder, you will find interpolated variables for the the UGRID (one file per variable) "
   ]
  },
  {
   "cell_type": "code",
   "execution_count": null,
   "metadata": {},
   "outputs": [],
   "source": [
    "data_file = [var_path+'/'+var_name+'.nc']\n",
    "\n",
    "# Get the information related to the mesh: primal and dual mesh\n",
    "primal_mesh = uxr.open_dataset(ufile, *data_file, use_dual=False)\n",
    "dual_mesh = uxr.open_dataset(ufile, *data_file, use_dual=True)\n",
    "\n",
    "# Extract nodes and faces information\n",
    "ucoords = np.empty((dual_mesh.uxgrid.n_node,3))\n",
    "ucoords[:,0] = dual_mesh.uxgrid.node_x.values\n",
    "ucoords[:,1] = dual_mesh.uxgrid.node_y.values\n",
    "ucoords[:,2] = dual_mesh.uxgrid.node_z.values\n",
    "ufaces = primal_mesh.uxgrid.node_face_connectivity.values\n",
    "\n",
    "# Get information about your mesh:\n",
    "print(\"Number of nodes: \",len(ucoords),\" | number of faces \",len(ufaces))\n",
    "edge_min = np.round(dual_mesh.uxgrid.edge_node_distances.min().values/1000.+0.,2)\n",
    "edge_max = np.round(dual_mesh.uxgrid.edge_node_distances.max().values/1000.+0.,2)\n",
    "edge_mean = np.round(dual_mesh.uxgrid.edge_node_distances.mean().values/1000.+0.,2)\n",
    "print(\"edge range (km): min \",edge_min,\" | max \",edge_max,\" | mean \",edge_mean)"
   ]
  },
  {
   "cell_type": "code",
   "execution_count": null,
   "metadata": {},
   "outputs": [],
   "source": [
    "# Save voronoi mesh for visualisation purposes\n",
    "saveVoro = False\n",
    "\n",
    "if saveVoro:\n",
    "    from mpas_tools.viz.paraview_extractor import extract_vtk\n",
    "    extract_vtk(\n",
    "            filename_pattern=ufile,\n",
    "            variable_list='areaCell',\n",
    "            dimension_list=['maxEdges=','nVertLevels=', 'nParticles='], \n",
    "            mesh_filename=ufile,\n",
    "            out_dir=input_path, \n",
    "            ignore_time=True,\n",
    "            # lonlat=True,\n",
    "            xtime='none'\n",
    "        )\n",
    "    print(\"You could now visualise in Paraview (wireframe) the produced voronoi mesh!\")\n",
    "    print(\"This is a vtp mesh called: \", input_path+'/staticFieldsOnCells.vtp')"
   ]
  },
  {
   "cell_type": "markdown",
   "metadata": {},
   "source": [
    "> You might want to check that everything went according to plan and look at the mesh and variables that will be used in goSPL.\n",
    "\n",
    "To do so, we will build a `vtk` file that could be visualised in Paraview..."
   ]
  },
  {
   "cell_type": "code",
   "execution_count": null,
   "metadata": {},
   "outputs": [],
   "source": [
    "checkMesh = False\n",
    "\n",
    "if checkMesh:\n",
    "    import meshio\n",
    "\n",
    "    paleovtk = input_path+\"/init.vtk\"\n",
    "\n",
    "    vlist = list(primal_mesh.keys())\n",
    "    vdata = []\n",
    "    for k in vlist:\n",
    "        vdata.append(primal_mesh[k].values)\n",
    "\n",
    "    list_data = dict.fromkeys(el for el in vlist)\n",
    "    list_data.update((k, vdata[i]) for i, k in enumerate(list_data))\n",
    "\n",
    "    # Define mesh\n",
    "    vis_mesh = meshio.Mesh(ucoords, {\"triangle\": ufaces}, \n",
    "                           point_data = list_data,\n",
    "                        )\n",
    "    # Write it disk\n",
    "    meshio.write(paleovtk, vis_mesh)\n",
    "    print(\"Writing VTK input file as {}\".format(paleovtk))"
   ]
  },
  {
   "cell_type": "markdown",
   "metadata": {},
   "source": [
    "## Extracting vertical tectonic forcing from successive paleo-elevation maps\n",
    "\n",
    "In case where you want to run a model with horizontal displacement rates then you could choose to adjust the tectonic forcing based on next time step paleo-elevation. \n",
    "\n",
    "To illustrate how this could be done we will use the `netcdf` grids provided in the data folder (*i.e.* 250.nc and 251.nc)."
   ]
  },
  {
   "cell_type": "code",
   "execution_count": null,
   "metadata": {},
   "outputs": [],
   "source": [
    "# Loading the nc files\n",
    "ncgrid_250 = xr.open_dataset('data/250.nc')\n",
    "ncgrid_251 = xr.open_dataset('data/251.nc')\n",
    "\n",
    "# Store next elevation as a new variable in the grid to interpolate\n",
    "ncgrid_250 = ncgrid_250[['h','vx','vy','vz','rain']]\n",
    "ncgrid_250['next_h'] = ncgrid_251['h']\n",
    "ncgrid_250"
   ]
  },
  {
   "cell_type": "markdown",
   "metadata": {},
   "source": [
    "Similar to what was done before we interpolate the structured variables to the UGRID mesh:"
   ]
  },
  {
   "cell_type": "code",
   "execution_count": null,
   "metadata": {},
   "outputs": [],
   "source": [
    "# Loading the UGRID file\n",
    "ufile = input_path+'/mesh_'+str(widthCell)+'km.nc'\n",
    "ugrid = uxr.open_grid(ufile) \n",
    "# ugrid\n",
    "\n",
    "# Perform the interpolation (bilinear) \n",
    "var_path = 'vars_'+str(widthCell)\n",
    "var_name = 'step_up_250'\n",
    "ufcts.inter2UGRID(ncgrid_250,ugrid,var_path,var_name,type='face')"
   ]
  },
  {
   "cell_type": "markdown",
   "metadata": {},
   "source": [
    "We then extract the tectonic forcing based on the displacement rates:"
   ]
  },
  {
   "cell_type": "code",
   "execution_count": null,
   "metadata": {},
   "outputs": [],
   "source": [
    "data_file = [var_path+'/'+var_name+'.nc']\n",
    "\n",
    "dt = 1.e6\n",
    "zkeys = ['h','next_h']\n",
    "vkeys = ['vx','vy','vz']\n",
    "# If you have a dynamic topography variable you can specify its corresponding key here for example dkey = ['dynt'] \n",
    "dkey = None\n",
    "\n",
    "dual_mesh = ufcts.get_Tectonic(ufile, data_file, vkeys, zkeys, dkey, dt, mthd='IDW')"
   ]
  },
  {
   "cell_type": "markdown",
   "metadata": {},
   "source": [
    "> In case where you have specified a dynamic topography variable, your tectonic variable `tec` is a combination of the tectonic and dynamic topography components.\n",
    "\n",
    "## goSPL input generation\n",
    "\n",
    "We will now create the inputs for goSPL. We first start by creating the input mesh defining our UGRID structure:"
   ]
  },
  {
   "cell_type": "code",
   "execution_count": null,
   "metadata": {},
   "outputs": [],
   "source": [
    "meshname = var_path+\"/mesh\"\n",
    "np.savez_compressed(meshname, v=ucoords, c=ufaces, \n",
    "                    z=dual_mesh.h.data\n",
    "                    )"
   ]
  },
  {
   "cell_type": "markdown",
   "metadata": {},
   "source": [
    "Now we save the forcing conditions (displacement rates, tectonic, precipitation...). Here you have the option to also add the next time step elevation, this will then be used in goSPL to force the model to match with the next paleo-elevation for specific regions (by defining the `zfit` parameter in the input file)."
   ]
  },
  {
   "cell_type": "code",
   "execution_count": null,
   "metadata": {},
   "outputs": [],
   "source": [
    "forcname = var_path+\"/forcing250\"\n",
    "\n",
    "vel = np.zeros(ucoords.shape)\n",
    "vel[:,0] = dual_mesh.vx.data\n",
    "vel[:,1] = dual_mesh.vy.data\n",
    "vel[:,2] = dual_mesh.vz.data\n",
    "np.savez_compressed(forcname, \n",
    "                    vxyz=vel, \n",
    "                    t=dual_mesh.tec.data, \n",
    "                    r=dual_mesh.rain.data,\n",
    "                    # nz=dual_mesh.next_h.data,\n",
    "                    )\n"
   ]
  },
  {
   "cell_type": "code",
   "execution_count": null,
   "metadata": {},
   "outputs": [],
   "source": []
  }
 ],
 "metadata": {
  "kernelspec": {
   "display_name": "gospl-run",
   "language": "python",
   "name": "python3"
  },
  "language_info": {
   "codemirror_mode": {
    "name": "ipython",
    "version": 3
   },
   "file_extension": ".py",
   "mimetype": "text/x-python",
   "name": "python",
   "nbconvert_exporter": "python",
   "pygments_lexer": "ipython3",
   "version": "3.11.8"
  }
 },
 "nbformat": 4,
 "nbformat_minor": 2
}
