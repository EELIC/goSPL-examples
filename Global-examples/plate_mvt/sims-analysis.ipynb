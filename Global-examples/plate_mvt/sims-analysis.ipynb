{
 "cells": [
  {
   "cell_type": "code",
   "execution_count": null,
   "id": "2759e39d",
   "metadata": {},
   "outputs": [],
   "source": [
    "import os\n",
    "import pygmt\n",
    "import pandas as pd\n",
    "import xarray as xr\n",
    "import numpy as np\n",
    "from scripts import mapOutputs as mout\n",
    "\n",
    "import matplotlib.pyplot as plt\n",
    "%matplotlib inline"
   ]
  },
  {
   "cell_type": "markdown",
   "id": "a2166642",
   "metadata": {},
   "source": [
    "## Running the simulations\n",
    "\n",
    "To run the different simulations, you will need to do the following in a terminal:\n",
    "\n",
    "```bash\n",
    "mpirun -np X python3 runModel.py -i input-global_plates.yml \n",
    "```\n",
    "\n",
    "where X is the number of processors to use (for example 10).\n",
    "\n",
    "## Visualising the outputs\n",
    "\n",
    "You can visualise the outputs of your simulations directly in Paraview. Below we also show how this could be extracted as netcdf grids and analysed in Python.\n",
    "\n",
    "\n",
    "To do so, we will be using the `mapOutputs` Python class (available in the `scripts` folder) to first extract the outputs, remap the unstructured variables on a structured mesh. The class is also performing additional calculations on the dataset to extract individual catchments based on flow accumulation and elevation.\n",
    "\n",
    "The interpolated model's variables are then exported as `netCDF` files, and each of them contains the following (if available from the simulation):\n",
    "\n",
    "+ elevation `elevation` (m)\n",
    "+ cumulative erosion/deposition `erodep` (m)\n",
    "+ erosion/deposition rate `erodep_rate` (m/yr)\n",
    "+ water flux discharge (accounting for lakes) `fillDischarge`(m3/yr)\n",
    "+ sediment flux in rivers `sedimentLoad` (m3/yr)\n",
    "+ main basin ids `basinID` (integer)\n",
    "+ rainfall `precipitation` (m/yr)\n",
    "+ tectonic `uplift` (m/yr)\n",
    "+ cumulative flexural isostasy `flex` (m)\n",
    "  "
   ]
  },
  {
   "cell_type": "markdown",
   "id": "6be3415b",
   "metadata": {},
   "source": [
    "We first define a folder where exported files will be stored:"
   ]
  },
  {
   "cell_type": "code",
   "execution_count": null,
   "id": "2d710a07",
   "metadata": {},
   "outputs": [],
   "source": [
    "# Define output folder name for the simulation\n",
    "out_path = 'export'\n",
    "\n",
    "if not os.path.exists(out_path):\n",
    "    os.makedirs(out_path)"
   ]
  },
  {
   "cell_type": "markdown",
   "id": "320b015a",
   "metadata": {},
   "source": [
    "Then we will be using the `mapOutputs` Python class to first extract the outputs, remap the unstructured variables on a structured mesh (the resolution of this mesh is defined by the `reso` parameter set in degree). The class is also performing additional calculations on the dataset to extract individual catchments based on flow accumulation and elevation.\n",
    "\n",
    "The interpolated model's variables are then exported as `netCDF` files, and each of them contains the following:\n",
    "\n",
    "+ elevation `elevation` (m)\n",
    "+ cumulative erosion/deposition `erodep` (m)\n",
    "+ water flux discharge (accounting for lakes) `fillDischarge`(m3/yr)\n",
    "+ water flux in rivers (not showing lakes) `flowDischarge` (m3/yr)\n",
    "+ sediment flux in rivers `sedimentLoad` (m3/yr)\n",
    "+ main basin ids `basinID` (integer)\n",
    "+ rainfall `precipitation` (m/yr)\n",
    "+ tectonic `uplift` (m/yr)"
   ]
  },
  {
   "cell_type": "code",
   "execution_count": null,
   "id": "0eb4f827",
   "metadata": {},
   "outputs": [],
   "source": [
    "stp = 0\n",
    "\n",
    "# Resolution of the netcdf structured grid\n",
    "reso = 0.1\n",
    "\n",
    "# Name of each netcdf output file\n",
    "ncout = os.path.join(out_path, \"data\")\n",
    "\n",
    "# Initialisation of the class\n",
    "grid = mout.mapOutputs(path='./', filename='input-global_plates.yml', step=stp, uplift=False, flex=False)"
   ]
  },
  {
   "cell_type": "markdown",
   "id": "77aa51ef",
   "metadata": {},
   "source": [
    "We perform the export using the following loop:"
   ]
  },
  {
   "cell_type": "code",
   "execution_count": null,
   "id": "6e5b5293",
   "metadata": {},
   "outputs": [],
   "source": [
    "for k in range(0,11,5):\n",
    "    \n",
    "    if stp>1:\n",
    "        # Get goSPL variables\n",
    "        grid.getData(stp)\n",
    "        \n",
    "    # Remap the variables on the regular mesh using distance weighting interpolation\n",
    "    grid.buildLonLatMesh(res=reso, nghb=3)\n",
    "    \n",
    "    # Export corresponding regular mesh variables as netCDF file\n",
    "    grid.exportNetCDF(ncfile = ncout+str(k)+'.nc')\n",
    "    stp += 1"
   ]
  },
  {
   "cell_type": "markdown",
   "id": "bf48bc41",
   "metadata": {},
   "source": [
    "# Plotting some outputs"
   ]
  },
  {
   "cell_type": "code",
   "execution_count": null,
   "id": "4d84817d",
   "metadata": {},
   "outputs": [],
   "source": [
    "dataset0 = xr.open_dataset(out_path+'/data0.nc')\n",
    "dataset5 = xr.open_dataset(out_path+'/data5.nc')\n",
    "dataset10 = xr.open_dataset(out_path+'/data10.nc')"
   ]
  },
  {
   "cell_type": "markdown",
   "id": "36bfb1cd",
   "metadata": {},
   "source": [
    "### Mollweide projection"
   ]
  },
  {
   "cell_type": "code",
   "execution_count": null,
   "id": "d9c0d813",
   "metadata": {},
   "outputs": [],
   "source": [
    "fig = pygmt.Figure()\n",
    "# Plotting elevation\n",
    "with pygmt.config(FONT='6p,Helvetica,black'):\n",
    "    pygmt.makecpt(cmap=\"geo\", series=[-10000, 10000])\n",
    "    fig.basemap(region='d', projection='W6i', frame='afg')\n",
    "    fig.grdimage(dataset0.elevation, shading='+a345+nt1+m0', frame=False)\n",
    "    # Add contour\n",
    "    fig.grdcontour(\n",
    "        interval=0.1,\n",
    "        grid=dataset10.elevation,\n",
    "        limit=[-0.1, 0.1],\n",
    "    )\n",
    "    fig.colorbar(position=\"jBC+o0c/-1.5c+w8c/0.3c+h\",frame=[\"a2000\", \"x+lElevation\", \"y+lm\"])\n",
    "# Customising the font style\n",
    "fig.text(text=\"Step 0\", position=\"TL\", font=\"8p,Helvetica-Bold,black\") #, xshift=\"-0.75c\")\n",
    "fig.show(dpi=500, width=1000)\n",
    "\n",
    "fig = pygmt.Figure()\n",
    "# Plotting elevation\n",
    "with pygmt.config(FONT='6p,Helvetica,black'):\n",
    "    pygmt.makecpt(cmap=\"geo\", series=[-10000, 10000])\n",
    "    fig.basemap(region='d', projection='W6i', frame='afg')\n",
    "    fig.grdimage(dataset10.elevation, shading='+a345+nt1+m0', frame=False)\n",
    "    # Add contour\n",
    "    fig.grdcontour(\n",
    "        interval=0.1,\n",
    "        grid=dataset10.elevation,\n",
    "        limit=[-0.1, 0.1],\n",
    "    )\n",
    "    fig.colorbar(position=\"jBC+o0c/-1.5c+w8c/0.3c+h\",frame=[\"a2000\", \"x+lElevation\", \"y+lm\"])\n",
    "# Customising the font style\n",
    "fig.text(text=\"Step 10\", position=\"TL\", font=\"8p,Helvetica-Bold,black\") #, xshift=\"-0.75c\")\n",
    "fig.show(dpi=500, width=1000)"
   ]
  },
  {
   "cell_type": "code",
   "execution_count": null,
   "id": "3854a2ab",
   "metadata": {},
   "outputs": [],
   "source": [
    "fig = pygmt.Figure()\n",
    "# Plotting elevation\n",
    "with pygmt.config(FONT='6p,Helvetica,black'):\n",
    "    pygmt.makecpt(cmap=\"polar\", series=[-3000, 3000])\n",
    "    fig.basemap(region='d', projection='W6i', frame='afg')\n",
    "    fig.grdimage(dataset10.erodep, shading='+a345+nt1+m0', frame=False)\n",
    "    # Add contour\n",
    "    fig.grdcontour(\n",
    "        interval=0.1,\n",
    "        grid=dataset10.elevation,\n",
    "        limit=[-0.1, 0.1],\n",
    "    )\n",
    "    fig.colorbar(position=\"jBC+o0c/-1.5c+w8c/0.3c+h\",frame=[\"a1000\", \"x+lErosion/Deposition\", \"y+lm\"])\n",
    "# Customising the font style\n",
    "fig.text(text=\"Step 10\", position=\"TL\", font=\"8p,Helvetica-Bold,black\") #, xshift=\"-0.75c\")\n",
    "fig.show(dpi=500, width=1000)"
   ]
  }
 ],
 "metadata": {
  "celltoolbar": "Tags",
  "kernelspec": {
   "display_name": "Python 3 (ipykernel)",
   "language": "python",
   "name": "python3"
  },
  "language_info": {
   "codemirror_mode": {
    "name": "ipython",
    "version": 3
   },
   "file_extension": ".py",
   "mimetype": "text/x-python",
   "name": "python",
   "nbconvert_exporter": "python",
   "pygments_lexer": "ipython3",
   "version": "3.11.8"
  }
 },
 "nbformat": 4,
 "nbformat_minor": 5
}
