{
 "cells": [
  {
   "cell_type": "code",
   "execution_count": null,
   "id": "2759e39d",
   "metadata": {},
   "outputs": [],
   "source": [
    "import os\n",
    "import pygmt\n",
    "import pandas as pd\n",
    "import xarray as xr\n",
    "import numpy as np\n",
    "from scripts import mapOutputs as mout\n",
    "\n",
    "import matplotlib.pyplot as plt\n",
    "%matplotlib inline"
   ]
  },
  {
   "cell_type": "markdown",
   "id": "a2166642",
   "metadata": {},
   "source": [
    "## Running the simulations\n",
    "\n",
    "To run the different simulations, you will need to do the following in a terminal:\n",
    "\n",
    "```bash\n",
    "mpirun -np X python3 runModel.py -i input-global_refined.yml \n",
    "```\n",
    "\n",
    "where X is the number of processors to use (for example 10).\n",
    "\n",
    "## Visualising the outputs\n",
    "\n",
    "You can visualise the outputs of your simulations directly in Paraview. Below we also show how this could be extracted as netcdf grids and analysed in Python.\n",
    "\n",
    "\n",
    "To do so, we will be using the `mapOutputs` Python class (available in the `scripts` folder) to first extract the outputs, remap the unstructured variables on a structured mesh. The class is also performing additional calculations on the dataset to extract individual catchments based on flow accumulation and elevation.\n",
    "\n",
    "The interpolated model's variables are then exported as `netCDF` files, and each of them contains the following (if available from the simulation):\n",
    "\n",
    "+ elevation `elevation` (m)\n",
    "+ cumulative erosion/deposition `erodep` (m)\n",
    "+ erosion/deposition rate `erodep_rate` (m/yr)\n",
    "+ water flux discharge (accounting for lakes) `fillDischarge`(m3/yr)\n",
    "+ sediment flux in rivers `sedimentLoad` (m3/yr)\n",
    "+ main basin ids `basinID` (integer)\n",
    "+ rainfall `precipitation` (m/yr)\n",
    "+ tectonic `uplift` (m/yr)\n",
    "+ cumulative flexural isostasy `flex` (m)\n",
    "  "
   ]
  },
  {
   "cell_type": "markdown",
   "id": "6be3415b",
   "metadata": {},
   "source": [
    "We first define a folder where exported files will be stored:"
   ]
  },
  {
   "cell_type": "code",
   "execution_count": null,
   "id": "2d710a07",
   "metadata": {},
   "outputs": [],
   "source": [
    "# Define output folder name for the simulation\n",
    "out_path = 'export'\n",
    "\n",
    "if not os.path.exists(out_path):\n",
    "    os.makedirs(out_path)"
   ]
  },
  {
   "cell_type": "markdown",
   "id": "320b015a",
   "metadata": {},
   "source": [
    "Then we will be using the `mapOutputs` Python class to first extract the outputs, remap the unstructured variables on a structured mesh (the resolution of this mesh is defined by the `reso` parameter set in degree). The class is also performing additional calculations on the dataset to extract individual catchments based on flow accumulation and elevation.\n",
    "\n",
    "The interpolated model's variables are then exported as `netCDF` files, and each of them contains the following:\n",
    "\n",
    "+ elevation `elevation` (m)\n",
    "+ cumulative erosion/deposition `erodep` (m)\n",
    "+ water flux discharge (accounting for lakes) `fillDischarge`(m3/yr)\n",
    "+ water flux in rivers (not showing lakes) `flowDischarge` (m3/yr)\n",
    "+ sediment flux in rivers `sedimentLoad` (m3/yr)\n",
    "+ main basin ids `basinID` (integer)\n",
    "+ rainfall `precipitation` (m/yr)\n",
    "+ tectonic `uplift` (m/yr)"
   ]
  },
  {
   "cell_type": "code",
   "execution_count": null,
   "id": "0eb4f827",
   "metadata": {},
   "outputs": [],
   "source": [
    "stp = 0\n",
    "\n",
    "# Resolution of the netcdf structured grid\n",
    "reso = 0.1\n",
    "\n",
    "# Name of each netcdf output file\n",
    "ncout = os.path.join(out_path, \"data\")\n",
    "\n",
    "# Initialisation of the class\n",
    "grid = mout.mapOutputs(path='./', filename='input-mardep.yml', step=stp, uplift=False, flex=True)"
   ]
  },
  {
   "cell_type": "markdown",
   "id": "77aa51ef",
   "metadata": {},
   "source": [
    "We perform the export using the following loop:"
   ]
  },
  {
   "cell_type": "code",
   "execution_count": null,
   "id": "6e5b5293",
   "metadata": {},
   "outputs": [],
   "source": [
    "for k in range(0,11):\n",
    "    \n",
    "    if stp>1:\n",
    "        # Get goSPL variables\n",
    "        grid.getData(stp)\n",
    "        \n",
    "    # Remap the variables on the regular mesh using distance weighting interpolation\n",
    "    grid.buildLonLatMesh(res=reso, nghb=3)\n",
    "    \n",
    "    # Export corresponding regular mesh variables as netCDF file\n",
    "    grid.exportNetCDF(ncfile = ncout+str(k)+'.nc')\n",
    "    stp += 1"
   ]
  },
  {
   "cell_type": "markdown",
   "id": "bf48bc41",
   "metadata": {},
   "source": [
    "# Plotting some outputs"
   ]
  },
  {
   "cell_type": "code",
   "execution_count": null,
   "id": "4d84817d",
   "metadata": {},
   "outputs": [],
   "source": [
    "dataset1 = xr.open_dataset(out_path+'/data1.nc')\n",
    "dataset5 = xr.open_dataset(out_path+'/data5.nc')\n",
    "dataset10 = xr.open_dataset(out_path+'/data10.nc')"
   ]
  },
  {
   "cell_type": "markdown",
   "id": "36bfb1cd",
   "metadata": {},
   "source": [
    "### Mollweide projection"
   ]
  },
  {
   "cell_type": "code",
   "execution_count": null,
   "id": "1b14c322",
   "metadata": {},
   "outputs": [],
   "source": [
    "fig = pygmt.Figure()\n",
    "# Plotting elevation\n",
    "with pygmt.config(FONT='6p,Helvetica,black'):\n",
    "    pygmt.makecpt(cmap=\"geo\", series=[-10000, 10000])\n",
    "    fig.basemap(region='d', projection='W6i', frame='afg')\n",
    "    fig.grdimage(dataset10.elevation, shading='+a345+nt1+m0', frame=False)\n",
    "    # Add contour\n",
    "    fig.grdcontour(\n",
    "        interval=0.1,\n",
    "        grid=dataset10.elevation,\n",
    "        limit=[-0.1, 0.1],\n",
    "    )\n",
    "    fig.colorbar(position=\"jBC+o0c/-1.5c+w8c/0.3c+h\",frame=[\"a2000\", \"x+lElevation\", \"y+lm\"])\n",
    "# Customising the font style\n",
    "fig.text(text=\"Step 10\", position=\"TL\", font=\"8p,Helvetica-Bold,black\") #, xshift=\"-0.75c\")\n",
    "fig.show(dpi=500, width=1000)"
   ]
  },
  {
   "cell_type": "code",
   "execution_count": null,
   "id": "3854a2ab",
   "metadata": {},
   "outputs": [],
   "source": [
    "fig = pygmt.Figure()\n",
    "# Plotting elevation\n",
    "with pygmt.config(FONT='6p,Helvetica,black'):\n",
    "    pygmt.makecpt(cmap=\"polar\", series=[-3000, 3000])\n",
    "    fig.basemap(region='d', projection='W6i', frame='afg')\n",
    "    fig.grdimage(dataset10.erodep, shading='+a345+nt1+m0', frame=False)\n",
    "    # Add contour\n",
    "    fig.grdcontour(\n",
    "        interval=0.1,\n",
    "        grid=dataset10.elevation,\n",
    "        limit=[-0.1, 0.1],\n",
    "    )\n",
    "    fig.colorbar(position=\"jBC+o0c/-1.5c+w8c/0.3c+h\",frame=[\"a1000\", \"x+lErosion/Deposition\", \"y+lm\"])\n",
    "# Customising the font style\n",
    "fig.text(text=\"Step 10\", position=\"TL\", font=\"8p,Helvetica-Bold,black\") #, xshift=\"-0.75c\")\n",
    "fig.show(dpi=500, width=1000)"
   ]
  },
  {
   "cell_type": "code",
   "execution_count": null,
   "id": "e6de5818",
   "metadata": {},
   "outputs": [],
   "source": [
    "dataset10"
   ]
  },
  {
   "cell_type": "code",
   "execution_count": null,
   "id": "73426099",
   "metadata": {},
   "outputs": [],
   "source": [
    "fig = pygmt.Figure()\n",
    "# Plotting elevation\n",
    "with pygmt.config(FONT='6p,Helvetica,black'):\n",
    "    pygmt.makecpt(cmap=\"polar\", series=[-5000, 5000])\n",
    "    fig.basemap(region='d', projection='W6i', frame='afg')\n",
    "    fig.grdimage(dataset10.flex, shading='+a345+nt1+m0', frame=False)\n",
    "    # Add contour\n",
    "    fig.grdcontour(\n",
    "        interval=0.1,\n",
    "        grid=dataset10.elevation,\n",
    "        limit=[-0.1, 0.1],\n",
    "    )\n",
    "    fig.colorbar(position=\"jBC+o0c/-1.5c+w8c/0.3c+h\",frame=[\"a1000\", \"x+lFlexure\", \"y+lm\"])\n",
    "# Customising the font style\n",
    "fig.text(text=\"Step 10\", position=\"TL\", font=\"8p,Helvetica-Bold,black\") #, xshift=\"-0.75c\")\n",
    "fig.show(dpi=500, width=1000)"
   ]
  },
  {
   "cell_type": "markdown",
   "id": "106effe0",
   "metadata": {},
   "source": [
    "# Evaluation of major drainage systems\n",
    "\n",
    "Here we design a workflow to extract for each time step the characteristics of each catchment in terms of sediment and water fluxes. The operation is performed globally.\n",
    "\n",
    "> To avoid having to read the large netcdf file at each time step, we first create a new set of netcdf files with only required variables for the analysis "
   ]
  },
  {
   "cell_type": "code",
   "execution_count": null,
   "id": "06cb1740",
   "metadata": {},
   "outputs": [],
   "source": [
    "# Specify the folder containing the netcdf file from our simulation\n",
    "out = 'export/'\n",
    "\n",
    "# Loop over each file and drop unwanted variables\n",
    "for k in range(0,11,1):\n",
    "    \n",
    "    # Open the netcdf file\n",
    "    dataset = xr.open_dataset(out+'data'+str(k)+'.nc')\n",
    "    \n",
    "    # Drop some variables (we only keep the sediment flow fluxes and the basin indices)\n",
    "    reduce_ds = dataset[['flowDischarge','sedimentLoad','basinID']]\n",
    "    \n",
    "    # Save the reduced dataset as a new smaller netcdf\n",
    "    reduce_ds.to_netcdf(out+'fsdata'+str(k)+'.nc')"
   ]
  },
  {
   "cell_type": "markdown",
   "id": "081ba5f9",
   "metadata": {},
   "source": [
    "We can then use the function `getCatchmentInfo.py` to extract for each individual catchment the maximum fluxes. \n",
    "\n",
    "This operation especially when performed globally and over all time steps is slow. The good news is that it is pretty much embarrassingly parallel so we will take advantage of this.\n",
    "\n",
    "If you want to run it, you can uncomment the following line and run it on 8 cpus (if you actually have 8 cpus on your machine)\n",
    "\n",
    "The script takes an input file `inputSedFlow.csv` that contains 2 columns: \n",
    "\n",
    "+ the first one if the time in Ma and\n",
    "+ the second is the netcdf file (created above) for each specified time interval."
   ]
  },
  {
   "cell_type": "code",
   "execution_count": null,
   "id": "415ebd81",
   "metadata": {},
   "outputs": [],
   "source": [
    "# !mpirun -np 9 python3 getCatchmentInfo.py -i inputSedFlow.csv -o flowsed"
   ]
  },
  {
   "cell_type": "markdown",
   "id": "a45ebc5f",
   "metadata": {},
   "source": [
    "# Extract fluxes (sediment and flow)\n",
    "\n",
    "Once finished, you will have 2 `csv` files per time step (one for the water discharge and one for the sediment fluxes). Each file contains 4 columns:\n",
    "\n",
    "+ the first one is the basin index,\n",
    "+ the second and third ones are the position of the outlet (longitude and latitude respectively),\n",
    "+ the last column is the corresponding discharge or flux value."
   ]
  },
  {
   "cell_type": "code",
   "execution_count": null,
   "id": "f44b3003",
   "metadata": {},
   "outputs": [],
   "source": [
    "# Pick a time in Ma needs to be a integer\n",
    "step = 10\n",
    "\n",
    "# Get the fluxes files \n",
    "flowdf = pd.read_csv('flowsed/flow'+str(step)+'.csv')\n",
    "seddf = pd.read_csv('flowsed/sed'+str(step)+'.csv')"
   ]
  },
  {
   "cell_type": "markdown",
   "id": "93fdf867",
   "metadata": {},
   "source": [
    "We will use the logarithmic values "
   ]
  },
  {
   "cell_type": "code",
   "execution_count": null,
   "id": "b2c9fcd7",
   "metadata": {},
   "outputs": [],
   "source": [
    "logFA = np.log10(flowdf['val'].values)\n",
    "logSed = np.log10(seddf['val'].values)"
   ]
  },
  {
   "cell_type": "markdown",
   "id": "68bb9461",
   "metadata": {},
   "source": [
    "Let's say we want to take the nth-largest values. To do so, we will first sort the values"
   ]
  },
  {
   "cell_type": "code",
   "execution_count": null,
   "id": "5ddb6ab0",
   "metadata": {},
   "outputs": [],
   "source": [
    "sorted_index_array = np.argsort(logFA)\n",
    "sortedFA = logFA[sorted_index_array]\n",
    "sortedLon = flowdf['lon'].values[sorted_index_array]\n",
    "sortedLat = flowdf['lat'].values[sorted_index_array]\n",
    "\n",
    "sorted_index_array1 = np.argsort(logSed)\n",
    "sortedSed = logSed[sorted_index_array1]\n",
    "sortedLon1 = seddf['lon'].values[sorted_index_array1]\n",
    "sortedLat1 = seddf['lat'].values[sorted_index_array1]"
   ]
  },
  {
   "cell_type": "markdown",
   "id": "062342c7",
   "metadata": {},
   "source": [
    "We now want to visualise the main fluxes, for example we will look at the 200 largest fluxes:"
   ]
  },
  {
   "cell_type": "code",
   "execution_count": null,
   "id": "7f94f8d4",
   "metadata": {},
   "outputs": [],
   "source": [
    "# Define nth values\n",
    "nlargest = 200\n",
    "\n",
    "rLon = sortedLon[-nlargest : ]\n",
    "rLat = sortedLat[-nlargest : ]\n",
    "rFA = sortedFA[-nlargest : ]\n",
    "\n",
    "rLon1 = sortedLon1[-nlargest : ]\n",
    "rLat1 = sortedLat1[-nlargest : ]\n",
    "rSed = sortedSed[-nlargest : ]"
   ]
  },
  {
   "cell_type": "markdown",
   "id": "baa369b1",
   "metadata": {},
   "source": [
    "### Plot for flow"
   ]
  },
  {
   "cell_type": "code",
   "execution_count": null,
   "id": "af672398",
   "metadata": {},
   "outputs": [],
   "source": [
    "# Let read the initial dataset (this will be used to get the elevation on our plot)\n",
    "dataset = xr.open_dataset(out+'data'+str(step)+'.nc')\n",
    "\n",
    "fig = pygmt.Figure()\n",
    "# Background image\n",
    "with pygmt.config(FONT='6p,Helvetica,black'):\n",
    "    pygmt.makecpt(cmap=\"gray\", series=[-6000, 6000])\n",
    "    fig.basemap(region='d', projection='W6i', frame='afg')\n",
    "    fig.grdimage(dataset.elevation, shading='+a345+nt1+m0', frame=False)\n",
    "    \n",
    "    fig.grdcontour(\n",
    "        interval=0.1,\n",
    "        grid=dataset.elevation,\n",
    "        limit=[-0.1, 0.1],\n",
    "    )\n",
    "# Scatter plot\n",
    "with pygmt.config(FONT='6p,Helvetica,black'):\n",
    "    pygmt.makecpt(cmap=\"devon\", series=[rFA.min(), rFA.max()], reverse=True)\n",
    "    fig.plot(\n",
    "        x=rLon,\n",
    "        y=rLat,\n",
    "        style=\"cc\",\n",
    "        pen=\"white\",\n",
    "        size=0.00005 * 2 ** rFA,\n",
    "        fill=rFA,\n",
    "        cmap=True,\n",
    "    )\n",
    "    fig.colorbar(position=\"jBC+o0c/-1.5c+w8c/0.3c+h\", \n",
    "                 frame=\"af+l'Water fluxes (log-scale) (m3/yr)'\")\n",
    "# Time interval\n",
    "fig.text(text=\"Step 10\", position=\"TL\", font=\"8p,Helvetica-Bold,black\")\n",
    "\n",
    "fig.show(dpi=500, width=1000)\n",
    "# fname = 'fluxes/flow'+str(step)+'Ma.png'\n",
    "# fig.savefig(fname=fname,dpi=500)"
   ]
  },
  {
   "cell_type": "markdown",
   "id": "41ad86a5",
   "metadata": {},
   "source": [
    "### Plot for sed"
   ]
  },
  {
   "cell_type": "code",
   "execution_count": null,
   "id": "311d3b3e",
   "metadata": {},
   "outputs": [],
   "source": [
    "fig = pygmt.Figure()\n",
    "\n",
    "# Background image\n",
    "with pygmt.config(FONT='6p,Helvetica,black'):\n",
    "    pygmt.makecpt(cmap=\"gray\", series=[-6000, 6000])\n",
    "    fig.basemap(region='d', projection='W6i', frame='afg')\n",
    "    fig.grdimage(dataset.elevation, shading='+a345+nt1+m0', frame=False)\n",
    "    fig.grdcontour(\n",
    "        interval=0.1,\n",
    "        grid=dataset.elevation,\n",
    "        limit=[-0.1, 0.1],\n",
    "    )\n",
    "# Scatter plot\n",
    "with pygmt.config(FONT='6p,Helvetica,black'):\n",
    "    pygmt.makecpt(cmap=\"buda\", series=[rSed.min(), rSed.max()])\n",
    "    fig.plot(\n",
    "        x=rLon1,\n",
    "        y=rLat1,\n",
    "        style=\"cc\",\n",
    "        pen=\"black\",\n",
    "        size=0.0005 * 2 ** rSed,\n",
    "        fill=rSed,\n",
    "        cmap=True,\n",
    "    )\n",
    "    fig.colorbar(position=\"jBC+o0c/-1.5c+w8c/0.3c+h\", \n",
    "                 frame=\"af+l'Sediment fluxes (log-scale) (m3/yr)'\")\n",
    "# Time interval\n",
    "fig.text(text=\"Step 10\", position=\"TL\", font=\"8p,Helvetica-Bold,black\")\n",
    "fig.show(dpi=500, width=1000)\n",
    "# fname = 'fluxes/sed'+str(step)+'Ma.png'\n",
    "# fig.savefig(fname=fname,dpi=500)"
   ]
  },
  {
   "cell_type": "code",
   "execution_count": null,
   "id": "8797cde7",
   "metadata": {},
   "outputs": [],
   "source": []
  }
 ],
 "metadata": {
  "celltoolbar": "Tags",
  "kernelspec": {
   "display_name": "Python 3 (ipykernel)",
   "language": "python",
   "name": "python3"
  },
  "language_info": {
   "codemirror_mode": {
    "name": "ipython",
    "version": 3
   },
   "file_extension": ".py",
   "mimetype": "text/x-python",
   "name": "python",
   "nbconvert_exporter": "python",
   "pygments_lexer": "ipython3",
   "version": "3.11.8"
  }
 },
 "nbformat": 4,
 "nbformat_minor": 5
}
