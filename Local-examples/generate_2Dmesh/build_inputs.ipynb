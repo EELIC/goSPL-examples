{
 "cells": [
  {
   "cell_type": "code",
   "execution_count": null,
   "metadata": {},
   "outputs": [],
   "source": [
    "import os\n",
    "import meshio\n",
    "import meshplex\n",
    "import numpy as np\n",
    "import xarray as xr\n",
    "import uxarray as uxr\n",
    "import rioxarray as xrio\n",
    "\n",
    "from scripts import umeshFcts as ufcts\n",
    "\n",
    "import matplotlib.pyplot as plt\n",
    "%matplotlib inline"
   ]
  },
  {
   "cell_type": "markdown",
   "metadata": {},
   "source": [
    "# Create a mesh from scratch\n",
    "\n",
    "In cases where one to make some generic models, you could build your input file directly in many ways. \n",
    "\n",
    "Here is a simple example where we define a flat elevation at 100 m and a simple tectonic uplift (with a linear slope ranging to 5 mm/yr) and export it to a goSPL input file."
   ]
  },
  {
   "cell_type": "code",
   "execution_count": null,
   "metadata": {},
   "outputs": [],
   "source": [
    "dx = 200 # desired resolution\n",
    "nx = 501 # desired number of nodes along the x-axis\n",
    "ny = 501 # desired number of nodes along the y-axis\n",
    "\n",
    "tmin = 0.\n",
    "tmax = 0.005\n",
    "\n",
    "xcoords = np.arange(nx)*float(dx) \n",
    "ycoords = np.arange(ny)*float(dx) \n",
    "tecx = np.interp(xcoords, [xcoords[0],xcoords[-1]], [tmin,tmax])\n",
    "tec = np.broadcast_to(tecx, (nx, nx))[:ny,:]\n",
    "\n",
    "\n",
    "noise = np.random.normal(0, 0.05, tec.shape)\n",
    "elev = noise+100.\n",
    "\n",
    "ds = xr.Dataset({\n",
    "    'elev': xr.DataArray(\n",
    "                data   = elev,\n",
    "                dims   = ['y','x'],\n",
    "                coords = {'x': xcoords,'y': ycoords},\n",
    "                ),\n",
    "    'tec': xr.DataArray(\n",
    "                data   = tec,\n",
    "                dims   = ['y','x'],\n",
    "                coords = {'x': xcoords,'y': ycoords},\n",
    "                )\n",
    "        }\n",
    "    )\n",
    "ds['cellwidth'] = (['y','x'],dx*np.ones( (ny, nx)))\n",
    "ds.tec.plot()\n",
    "ds\n"
   ]
  },
  {
   "cell_type": "markdown",
   "metadata": {},
   "source": [
    "We then build the unstructured grid for running goSPL"
   ]
  },
  {
   "cell_type": "code",
   "execution_count": null,
   "metadata": {},
   "outputs": [],
   "source": [
    "output_path = \"slope_tec\" \n",
    "if not os.path.exists(output_path):\n",
    "    os.makedirs(output_path)\n",
    "    \n",
    "# Build your planar mesh\n",
    "ufcts.planarMesh(ds,output_path,fvtk='planar.vtk',fumpas=True,voro=True)\n"
   ]
  },
  {
   "cell_type": "markdown",
   "metadata": {},
   "source": [
    "The mesh (`base2D.nc`) is now stored in the output folder (here named `slope`). \n",
    "\n",
    "We will open this file and extract the information used in goSPL:"
   ]
  },
  {
   "cell_type": "code",
   "execution_count": null,
   "metadata": {},
   "outputs": [],
   "source": [
    "# Loading the UGRID file\n",
    "ufile = output_path+'/base2D.nc'\n",
    "var_name = 'data'\n",
    "ugrid = uxr.open_grid(ufile) \n",
    "\n",
    "# Perform the interpolation (bilinear) \n",
    "ufcts.inter2UGRID(ds[['elev','tec']],ugrid,output_path,var_name,type='face',latlon=False)\n",
    "# ufcts.inter2UGRID(ds[['t']],ugrid,output_path,var_name,type='face',latlon=False)\n",
    "\n",
    "data_file = [output_path+'/'+var_name+'.nc']\n",
    "# Get the information related to the mesh: primal and dual mesh\n",
    "primal_mesh = uxr.open_dataset(ufile, *data_file, use_dual=False)\n",
    "dual_mesh = uxr.open_dataset(ufile, *data_file, use_dual=True)\n",
    "\n",
    "# Extract nodes and faces information\n",
    "ucoords = np.empty((dual_mesh.uxgrid.n_node,3))\n",
    "ucoords[:,0] = dual_mesh.uxgrid.node_x.values\n",
    "ucoords[:,1] = dual_mesh.uxgrid.node_y.values\n",
    "ucoords[:,2] = dual_mesh.uxgrid.node_z.values\n",
    "ufaces = primal_mesh.uxgrid.node_face_connectivity.values\n",
    "\n",
    "# Get information about your mesh:\n",
    "print(\"Number of nodes: \",len(ucoords),\" | number of faces \",len(ufaces))\n",
    "edge_min = np.round(dual_mesh.uxgrid.edge_node_distances.min().values/1000.+0.,2)\n",
    "edge_max = np.round(dual_mesh.uxgrid.edge_node_distances.max().values/1000.+0.,2)\n",
    "edge_mean = np.round(dual_mesh.uxgrid.edge_node_distances.mean().values/1000.+0.,2)\n",
    "print(\"edge range (km): min \",edge_min,\" | max \",edge_max,\" | mean \",edge_mean)"
   ]
  },
  {
   "cell_type": "markdown",
   "metadata": {},
   "source": [
    "We now read the created `vtk` file and add the interpolated variables to it:"
   ]
  },
  {
   "cell_type": "code",
   "execution_count": null,
   "metadata": {},
   "outputs": [],
   "source": [
    "mesh = meshio.read(output_path+'/planar.vtk')\n",
    "vertex = mesh.points\n",
    "cells = mesh.cells_dict['triangle']\n",
    "Umesh = meshplex.MeshTri(vertex, cells)\n",
    "Uarea = Umesh.control_volumes\n",
    "print('Cell area (km2): ',Uarea.min()*1.e-6,Uarea.max()*1.e-6)\n",
    "\n",
    "# Define mesh\n",
    "paleovtk = output_path+\"/init.vtk\"\n",
    "vis_mesh = meshio.Mesh(vertex, {\"triangle\": cells}, \n",
    "                       point_data={\"elev\": primal_mesh.elev.values,\n",
    "                                   \"tec\": primal_mesh.tec.values,\n",
    "                                   },\n",
    "                       )\n",
    "\n",
    "# Write it disk\n",
    "meshio.write(paleovtk, vis_mesh)\n",
    "print(\"Writing VTK input file as {}\".format(paleovtk))"
   ]
  },
  {
   "cell_type": "markdown",
   "metadata": {},
   "source": [
    "### Creating goSPL input\n",
    "\n",
    "We will now create the inputs for goSPL. We first start by creating the input mesh defining our UGRID structure:"
   ]
  },
  {
   "cell_type": "code",
   "execution_count": null,
   "metadata": {},
   "outputs": [],
   "source": [
    "meshname = output_path+\"/gospl_mesh\"\n",
    "np.savez_compressed(meshname, v=vertex, c=cells, \n",
    "                    z=primal_mesh.elev.data, t=primal_mesh.tec.data\n",
    "                    )"
   ]
  },
  {
   "cell_type": "markdown",
   "metadata": {},
   "source": [
    "# Escarpment input"
   ]
  },
  {
   "cell_type": "code",
   "execution_count": null,
   "metadata": {},
   "outputs": [],
   "source": [
    "dx = 1000 # desired resolution\n",
    "nx = 301 # desired number of nodes along the x-axis\n",
    "ny = 301 # desired number of nodes along the y-axis\n",
    "\n",
    "# tmin = 0.\n",
    "# tmax = 0.005\n",
    "\n",
    "xcoords = np.arange(nx)*float(dx) \n",
    "ycoords = np.arange(ny)*float(dx) \n",
    "elev = np.interp(xcoords, [xcoords[0],xcoords[-1]], [0,0])\n",
    "elev = np.broadcast_to(elev, (nx, nx))[:ny,:]\n",
    "\n",
    "\n",
    "noise = np.random.normal(0, 0.05, elev.shape)\n",
    "elev = noise+100.\n",
    "elev[50:,:] += 900 \n",
    "\n",
    "ds = xr.Dataset({\n",
    "    'elev': xr.DataArray(\n",
    "                data   = elev,\n",
    "                dims   = ['y','x'],\n",
    "                coords = {'x': xcoords,'y': ycoords},\n",
    "                ),\n",
    "    # 'tec': xr.DataArray(\n",
    "    #             data   = tec,\n",
    "    #             dims   = ['y','x'],\n",
    "    #             coords = {'x': xcoords,'y': ycoords},\n",
    "    #             )\n",
    "        }\n",
    "    )\n",
    "ds['cellwidth'] = (['y','x'],dx*np.ones( (ny, nx)))\n",
    "ds.elev.plot()\n",
    "ds\n"
   ]
  },
  {
   "cell_type": "code",
   "execution_count": null,
   "metadata": {},
   "outputs": [],
   "source": [
    "output_path = \"escarpment\" \n",
    "if not os.path.exists(output_path):\n",
    "    os.makedirs(output_path)\n",
    "    \n",
    "# Build your planar mesh\n",
    "ufcts.planarMesh(ds,output_path,fvtk='planar.vtk',fumpas=True,voro=True)\n"
   ]
  },
  {
   "cell_type": "code",
   "execution_count": null,
   "metadata": {},
   "outputs": [],
   "source": [
    "# Loading the UGRID file\n",
    "ufile = output_path+'/base2D.nc'\n",
    "var_name = 'data'\n",
    "ugrid = uxr.open_grid(ufile) \n",
    "\n",
    "# Perform the interpolation (bilinear) \n",
    "ufcts.inter2UGRID(ds[['elev']],ugrid,output_path,var_name,type='face',latlon=False)\n",
    "\n",
    "data_file = [output_path+'/'+var_name+'.nc']\n",
    "# Get the information related to the mesh: primal and dual mesh\n",
    "primal_mesh = uxr.open_dataset(ufile, *data_file, use_dual=False)\n",
    "dual_mesh = uxr.open_dataset(ufile, *data_file, use_dual=True)\n",
    "\n",
    "# Extract nodes and faces information\n",
    "ucoords = np.empty((dual_mesh.uxgrid.n_node,3))\n",
    "ucoords[:,0] = dual_mesh.uxgrid.node_x.values\n",
    "ucoords[:,1] = dual_mesh.uxgrid.node_y.values\n",
    "ucoords[:,2] = dual_mesh.uxgrid.node_z.values\n",
    "ufaces = primal_mesh.uxgrid.node_face_connectivity.values\n",
    "\n",
    "# Get information about your mesh:\n",
    "print(\"Number of nodes: \",len(ucoords),\" | number of faces \",len(ufaces))\n",
    "edge_min = np.round(dual_mesh.uxgrid.edge_node_distances.min().values/1000.+0.,2)\n",
    "edge_max = np.round(dual_mesh.uxgrid.edge_node_distances.max().values/1000.+0.,2)\n",
    "edge_mean = np.round(dual_mesh.uxgrid.edge_node_distances.mean().values/1000.+0.,2)\n",
    "print(\"edge range (km): min \",edge_min,\" | max \",edge_max,\" | mean \",edge_mean)"
   ]
  },
  {
   "cell_type": "code",
   "execution_count": null,
   "metadata": {},
   "outputs": [],
   "source": [
    "mesh = meshio.read(output_path+'/planar.vtk')\n",
    "vertex = mesh.points\n",
    "cells = mesh.cells_dict['triangle']\n",
    "Umesh = meshplex.MeshTri(vertex, cells)\n",
    "Uarea = Umesh.control_volumes\n",
    "print('Cell area (km2): ',Uarea.min()*1.e-6,Uarea.max()*1.e-6)\n",
    "\n",
    "# Define mesh\n",
    "paleovtk = output_path+\"/init.vtk\"\n",
    "vis_mesh = meshio.Mesh(vertex, {\"triangle\": cells}, \n",
    "                       point_data={\"elev\": primal_mesh.elev.values,\n",
    "                                   },\n",
    "                       )\n",
    "\n",
    "# Write it disk\n",
    "meshio.write(paleovtk, vis_mesh)\n",
    "print(\"Writing VTK input file as {}\".format(paleovtk))"
   ]
  },
  {
   "cell_type": "code",
   "execution_count": null,
   "metadata": {},
   "outputs": [],
   "source": [
    "meshname = output_path+\"/escarpment2\"\n",
    "np.savez_compressed(meshname, v=vertex, c=cells, \n",
    "                    z=primal_mesh.elev.data\n",
    "                    )"
   ]
  },
  {
   "cell_type": "markdown",
   "metadata": {},
   "source": [
    "# Create a mesh from a geotiff dataset\n",
    "\n",
    "We first demonstrate how to create a goSPL inputs from a given geotiff (equivalently one could use a netCDF grid as a starting file).\n",
    "\n",
    "### Extracting and clipping elevation from geotiff"
   ]
  },
  {
   "cell_type": "code",
   "execution_count": null,
   "metadata": {},
   "outputs": [],
   "source": [
    "output_path = \"geotiff\" \n",
    "if not os.path.exists(output_path):\n",
    "    os.makedirs(output_path)\n",
    "\n",
    "xds = xrio.open_rasterio(\"data/srtm_36_04.tif\")\n",
    "xds"
   ]
  },
  {
   "cell_type": "markdown",
   "metadata": {},
   "source": [
    "The geotiff contains elevation information in a lon/lat coordinate system:"
   ]
  },
  {
   "cell_type": "code",
   "execution_count": null,
   "metadata": {},
   "outputs": [],
   "source": [
    "plt.figure(figsize=(5,5))\n",
    "im = xds.sel(band=1).plot(cmap='BrBG', vmin=-0.5, vmax=3000)\n",
    "im.figure.axes[0].tick_params(axis=\"both\", labelsize=8)\n",
    "plt.show()"
   ]
  },
  {
   "cell_type": "markdown",
   "metadata": {},
   "source": [
    "We first reproject the dataset into a UTM grid:"
   ]
  },
  {
   "cell_type": "code",
   "execution_count": null,
   "metadata": {},
   "outputs": [],
   "source": [
    "xds_utm = xds.rio.reproject(xds.rio.estimate_utm_crs())\n",
    "plt.figure(figsize=(5,5))\n",
    "im = xds_utm.sel(band=1).plot.imshow(cmap='BrBG', vmin=-0.5, vmax=3000)\n",
    "im.figure.axes[0].tick_params(axis=\"both\", labelsize=6)\n",
    "plt.show()"
   ]
  },
  {
   "cell_type": "markdown",
   "metadata": {},
   "source": [
    "We then crop to a region of interest based on UTM coordinates:"
   ]
  },
  {
   "cell_type": "code",
   "execution_count": null,
   "metadata": {},
   "outputs": [],
   "source": [
    "# Specify the bounding box\n",
    "geometries = [\n",
    "    {\n",
    "        'type': 'Polygon',\n",
    "        'coordinates': [[\n",
    "            [400000, 4.5e6],\n",
    "            [600000, 4.5e6],\n",
    "            [600000, 4.75e6],\n",
    "            [400000, 4.75e6]\n",
    "        ]]\n",
    "    }\n",
    "]\n",
    "\n",
    "# Clip your region\n",
    "clipped = xds_utm.rio.clip(geometries)\n",
    "clipped = clipped.sortby(clipped.x)\n",
    "clipped = clipped.sortby(clipped.y)\n",
    "clipped"
   ]
  },
  {
   "cell_type": "markdown",
   "metadata": {},
   "source": [
    "We are now interpolating the data to a specific resolution (here `dx` 500 m):"
   ]
  },
  {
   "cell_type": "code",
   "execution_count": null,
   "metadata": {},
   "outputs": [],
   "source": [
    "dx = 500.\n",
    "newx = np.arange(401000,600000,dx)\n",
    "newy = np.arange(4501000,4750000,dx)\n",
    "newds = clipped.interp(x=newx, y=newy, method=\"cubic\")\n",
    "elev = newds.sel(band=1).copy()\n",
    "nds = xr.Dataset({\n",
    "    'elev': xr.DataArray(\n",
    "                data   = elev,   \n",
    "                dims   = ['y','x'],\n",
    "                coords = {'x': newx, 'y': newy},\n",
    "                ),\n",
    "})\n",
    "nds"
   ]
  },
  {
   "cell_type": "markdown",
   "metadata": {},
   "source": [
    "### Building a UGRID for goSPL\n",
    "\n",
    "We will now create an unstructured mesh based on `jigsaw` library. \n",
    "\n",
    "First we use the same resolution as our interpolated geotiff dataset (`mesh_res` = `dx`)"
   ]
  },
  {
   "cell_type": "code",
   "execution_count": null,
   "metadata": {},
   "outputs": [],
   "source": [
    "mesh_res = dx\n",
    "\n",
    "# Build your planar mesh\n",
    "shape = nds.elev.shape\n",
    "nds['cellwidth'] = (['y','x'],mesh_res*np.ones(shape))\n",
    "ufcts.planarMesh(nds,output_path,fvtk='planar.vtk',fumpas=True,voro=True)"
   ]
  },
  {
   "cell_type": "markdown",
   "metadata": {},
   "source": [
    "The mesh (`base2D.nc`) is now stored in the output folder (here named `geotiff`). \n",
    "\n",
    "We will open this file and extract the information used in goSPL:"
   ]
  },
  {
   "cell_type": "code",
   "execution_count": null,
   "metadata": {},
   "outputs": [],
   "source": [
    "# Loading the UGRID file\n",
    "ufile = output_path+'/base2D.nc'\n",
    "var_name = 'data'\n",
    "ugrid = uxr.open_grid(ufile) \n",
    "\n",
    "# Perform the interpolation (bilinear) \n",
    "ufcts.inter2UGRID(nds[['elev']],ugrid,output_path,var_name,type='face',latlon=False)\n",
    "\n",
    "data_file = [output_path+'/'+var_name+'.nc']\n",
    "# Get the information related to the mesh: primal and dual mesh\n",
    "primal_mesh = uxr.open_dataset(ufile, *data_file, use_dual=False)\n",
    "dual_mesh = uxr.open_dataset(ufile, *data_file, use_dual=True)\n",
    "\n",
    "# Extract nodes and faces information\n",
    "ucoords = np.empty((dual_mesh.uxgrid.n_node,3))\n",
    "ucoords[:,0] = dual_mesh.uxgrid.node_x.values\n",
    "ucoords[:,1] = dual_mesh.uxgrid.node_y.values\n",
    "ucoords[:,2] = dual_mesh.uxgrid.node_z.values\n",
    "ufaces = primal_mesh.uxgrid.node_face_connectivity.values\n",
    "\n",
    "# Get information about your mesh:\n",
    "print(\"Number of nodes: \",len(ucoords),\" | number of faces \",len(ufaces))\n",
    "edge_min = np.round(dual_mesh.uxgrid.edge_node_distances.min().values/1000.+0.,2)\n",
    "edge_max = np.round(dual_mesh.uxgrid.edge_node_distances.max().values/1000.+0.,2)\n",
    "edge_mean = np.round(dual_mesh.uxgrid.edge_node_distances.mean().values/1000.+0.,2)\n",
    "print(\"edge range (km): min \",edge_min,\" | max \",edge_max,\" | mean \",edge_mean)"
   ]
  },
  {
   "cell_type": "markdown",
   "metadata": {},
   "source": [
    "We now read the created `vtk` file and add the interpolated variables to it:"
   ]
  },
  {
   "cell_type": "code",
   "execution_count": null,
   "metadata": {},
   "outputs": [],
   "source": [
    "mesh = meshio.read(output_path+'/planar.vtk')\n",
    "vertex = mesh.points\n",
    "cells = mesh.cells_dict['triangle']\n",
    "Umesh = meshplex.MeshTri(vertex, cells)\n",
    "Uarea = Umesh.control_volumes\n",
    "print('Cell area (km2): ',Uarea.min()*1.e-6,Uarea.max()*1.e-6)\n",
    "\n",
    "# Define mesh\n",
    "paleovtk = output_path+\"/init.vtk\"\n",
    "vis_mesh = meshio.Mesh(vertex, {\"triangle\": cells}, \n",
    "                       point_data={\"elev\": primal_mesh.elev.values,\n",
    "                                   },\n",
    "                       )\n",
    "\n",
    "# Write it disk\n",
    "meshio.write(paleovtk, vis_mesh)\n",
    "print(\"Writing VTK input file as {}\".format(paleovtk))"
   ]
  },
  {
   "cell_type": "markdown",
   "metadata": {},
   "source": [
    "### Creating goSPL input\n",
    "\n",
    "We will now create the inputs for goSPL. We first start by creating the input mesh defining our UGRID structure:"
   ]
  },
  {
   "cell_type": "code",
   "execution_count": null,
   "metadata": {},
   "outputs": [],
   "source": [
    "meshname = output_path+\"/gospl_mesh\"\n",
    "np.savez_compressed(meshname, v=vertex, c=cells, \n",
    "                    z=primal_mesh.elev.data\n",
    "                    )"
   ]
  },
  {
   "cell_type": "markdown",
   "metadata": {},
   "source": [
    "# Making a variable resolution mesh\n",
    "\n",
    "Following the approach described above one could create a more complex unstructured mesh with variable cell width based on user defined crietria.\n",
    "\n",
    "Here we illustrate how this could be done by using the elevation to refine the mesh."
   ]
  },
  {
   "cell_type": "code",
   "execution_count": null,
   "metadata": {},
   "outputs": [],
   "source": [
    "def weightsElev(ds):\n",
    "\n",
    "    y = ds.y.values\n",
    "    x = ds.x.values\n",
    "    val = ds.elev.copy()\n",
    "    ds['cellwidth'] = ( ['y','x'], 5000*np.ones((y.size, x.size)))\n",
    "    ds['cellwidth'] = ds['cellwidth'].where((val<-1000)|(val>0),1500)\n",
    "    ds['cellwidth'] = ds['cellwidth'].where((val<0)|(val>500),1000)\n",
    "    ds['cellwidth'] = ds['cellwidth'].where((val<500)|(val>1000),750)\n",
    "    ds['cellwidth'] = ds['cellwidth'].where((val<1000)|(val>1500),500)\n",
    "    ds['cellwidth'] = ds['cellwidth'].where(val<1500,250)\n",
    "\n",
    "    return ds\n",
    "\n",
    "nds = weightsElev(nds)\n",
    "plt.figure(figsize=(5,5))\n",
    "nds.cellwidth.plot()\n",
    "plt.show()"
   ]
  },
  {
   "cell_type": "markdown",
   "metadata": {},
   "source": [
    "We now use the same command as before but with variable width:"
   ]
  },
  {
   "cell_type": "code",
   "execution_count": null,
   "metadata": {},
   "outputs": [],
   "source": [
    "mesh_res = dx\n",
    "output_path = 'geotiff_refined'\n",
    "if not os.path.exists(output_path):\n",
    "    os.makedirs(output_path)\n",
    "    \n",
    "# Build your planar mesh using the width specified above\n",
    "ufcts.planarMesh(nds,output_path,fvtk='planar.vtk',fumpas=True,voro=True)"
   ]
  },
  {
   "cell_type": "markdown",
   "metadata": {},
   "source": [
    "Getting the corresponding mesh information:"
   ]
  },
  {
   "cell_type": "code",
   "execution_count": null,
   "metadata": {},
   "outputs": [],
   "source": [
    "# Loading the UGRID file\n",
    "ufile = output_path+'/base2D.nc'\n",
    "var_name = 'data'\n",
    "ugrid = uxr.open_grid(ufile) \n",
    "\n",
    "# Perform the interpolation (bilinear) \n",
    "ufcts.inter2UGRID(nds[['elev']],ugrid,output_path,var_name,type='face',latlon=False)\n",
    "\n",
    "data_file = [output_path+'/'+var_name+'.nc']\n",
    "# Get the information related to the mesh: primal and dual mesh\n",
    "primal_mesh = uxr.open_dataset(ufile, *data_file, use_dual=False)\n",
    "dual_mesh = uxr.open_dataset(ufile, *data_file, use_dual=True)\n",
    "\n",
    "# Extract nodes and faces information\n",
    "ucoords = np.empty((dual_mesh.uxgrid.n_node,3))\n",
    "ucoords[:,0] = dual_mesh.uxgrid.node_x.values\n",
    "ucoords[:,1] = dual_mesh.uxgrid.node_y.values\n",
    "ucoords[:,2] = dual_mesh.uxgrid.node_z.values\n",
    "ufaces = primal_mesh.uxgrid.node_face_connectivity.values\n",
    "\n",
    "# Get information about your mesh:\n",
    "print(\"Number of nodes: \",len(ucoords),\" | number of faces \",len(ufaces))\n",
    "edge_min = np.round(dual_mesh.uxgrid.edge_node_distances.min().values/1000.+0.,2)\n",
    "edge_max = np.round(dual_mesh.uxgrid.edge_node_distances.max().values/1000.+0.,2)\n",
    "edge_mean = np.round(dual_mesh.uxgrid.edge_node_distances.mean().values/1000.+0.,2)\n",
    "print(\"edge range (km): min \",edge_min,\" | max \",edge_max,\" | mean \",edge_mean)"
   ]
  },
  {
   "cell_type": "markdown",
   "metadata": {},
   "source": [
    "We now read the created `vtk` file and add the interpolated variables to it and save the grid as an input file for goSPL:"
   ]
  },
  {
   "cell_type": "code",
   "execution_count": null,
   "metadata": {},
   "outputs": [],
   "source": [
    "mesh = meshio.read(output_path+'/planar.vtk')\n",
    "vertex = mesh.points\n",
    "cells = mesh.cells_dict['triangle']\n",
    "Umesh = meshplex.MeshTri(vertex, cells)\n",
    "Uarea = Umesh.control_volumes\n",
    "print('Cell area (km2): ',Uarea.min()*1.e-6,Uarea.max()*1.e-6)\n",
    "\n",
    "# Define mesh\n",
    "paleovtk = output_path+\"/init.vtk\"\n",
    "vis_mesh = meshio.Mesh(vertex, {\"triangle\": cells}, \n",
    "                       point_data={\"elev\": primal_mesh.elev.values,\n",
    "                                   },\n",
    "                       )\n",
    "\n",
    "# Write it disk\n",
    "meshio.write(paleovtk, vis_mesh)\n",
    "print(\"Writing VTK input file as {}\".format(paleovtk))\n",
    "\n",
    "# Save for goSPL inputs\n",
    "meshname = output_path+\"/gospl_mesh\"\n",
    "np.savez_compressed(meshname, v=vertex, c=cells, \n",
    "                    z=primal_mesh.elev.data\n",
    "                    )"
   ]
  },
  {
   "cell_type": "code",
   "execution_count": null,
   "metadata": {},
   "outputs": [],
   "source": []
  },
  {
   "cell_type": "code",
   "execution_count": null,
   "metadata": {},
   "outputs": [],
   "source": []
  },
  {
   "cell_type": "code",
   "execution_count": null,
   "metadata": {},
   "outputs": [],
   "source": []
  }
 ],
 "metadata": {
  "kernelspec": {
   "display_name": "gospl-run",
   "language": "python",
   "name": "python3"
  },
  "language_info": {
   "codemirror_mode": {
    "name": "ipython",
    "version": 3
   },
   "file_extension": ".py",
   "mimetype": "text/x-python",
   "name": "python",
   "nbconvert_exporter": "python",
   "pygments_lexer": "ipython3",
   "version": "3.11.8"
  }
 },
 "nbformat": 4,
 "nbformat_minor": 2
}
