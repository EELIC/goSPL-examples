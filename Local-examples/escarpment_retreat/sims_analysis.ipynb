{
 "cells": [
  {
   "cell_type": "code",
   "execution_count": null,
   "metadata": {},
   "outputs": [],
   "source": [
    "import numpy as np\n",
    "import xarray as xr\n",
    "import seaborn as sns\n",
    "\n",
    "from scripts import extractBasin \n",
    "\n",
    "import matplotlib\n",
    "import matplotlib.pyplot as plt\n",
    "%matplotlib inline"
   ]
  },
  {
   "cell_type": "markdown",
   "metadata": {},
   "source": [
    "\n",
    "## Running the simulations\n",
    "\n",
    "First activate the conda environment:\n",
    "\n",
    "```bash\n",
    "conda activate gospl\n",
    "```\n",
    "\n",
    "To run the simulation, you will need to do the following in a terminal:\n",
    "\n",
    "```bash\n",
    "mpirun -np X python3 runModel.py -i input-escarpment.yml \n",
    "```\n",
    "\n",
    "where X is the number of processors to use.\n",
    "\n",
    "## Visualising the outputs\n",
    "\n",
    "You can visualise the outputs of your simulations directly in Paraview. Below we also show how this could be extracted as netcdf grids and analysed in Python.\n",
    "\n"
   ]
  },
  {
   "cell_type": "markdown",
   "metadata": {},
   "source": [
    "**Before running this notebook, make sure that you have extracted the nc-grids from your goSPL output folder.**\n",
    "\n",
    "> This is done by running:\n",
    "\n",
    "```python\n",
    "python3 build_ncgrids.py -i input-escarpment.yml -o nc-escarpment -s 50\n",
    "```\n",
    "\n",
    "where:\n",
    "+ `input-escarpment.yml`: the goSPL inputfile for a specific model\n",
    "+ `nc-escarpment`: a specific folder where the new grids will be saved\n",
    "+ `50`: a integer representing the number of time steps to process (usually set to the number of goSPL outputs)\n",
    "\n",
    "This will create a sets of regular nc grids with goSPL outputs (`dataXXX.nc`)"
   ]
  },
  {
   "cell_type": "markdown",
   "metadata": {},
   "source": [
    "### Extract a specific basin river profile\n",
    "\n",
    "Load a netcdf grid from goSPL at a specific time step:"
   ]
  },
  {
   "cell_type": "code",
   "execution_count": null,
   "metadata": {},
   "outputs": [],
   "source": [
    "out_path = 'nc-escarpment/'\n",
    "dataset1 = xr.open_dataset(out_path+'data10.nc')\n",
    "dataset2 = xr.open_dataset(out_path+'data50.nc')\n",
    "\n",
    "fig, ax = plt.subplots(1,2, figsize=(8,4))\n",
    "im = dataset1.elevation.plot(ax=ax[0], add_labels=False, add_colorbar=False, vmin=0, vmax=1400, cmap='Spectral_r')\n",
    "ax[0].set_title('10 Myr', fontsize=10, fontweight=\"bold\")\n",
    "\n",
    "dataset2.elevation.plot(ax=ax[1], add_labels=False, add_colorbar=False, vmin=0, vmax=1400, cmap='Spectral_r')\n",
    "ax[1].set_title('50 Myr', fontsize=10, fontweight=\"bold\")\n",
    "\n",
    "cbar_ax = fig.add_axes([0.2, -0.04, 0.6, 0.04]) \n",
    "cbar = fig.colorbar(im, cax=cbar_ax, extend='both', orientation='horizontal')\n",
    "cbar.set_label('Elevation (m)')\n",
    "\n",
    "plt.tight_layout()\n",
    "plt.show()"
   ]
  },
  {
   "cell_type": "markdown",
   "metadata": {},
   "source": [
    "Choose a point coordinate on a basin (`pt_x`, `pt_y`) and call the `getCatchment` function that return the river basin information.\n",
    "\n",
    "The `fa_thres` is the flow accumulation threshold under which we stop looking from remaining streams as they are really small..."
   ]
  },
  {
   "cell_type": "code",
   "execution_count": null,
   "metadata": {},
   "outputs": [],
   "source": [
    "pt_x = 200000\n",
    "pt_y = 50000\n",
    "grid, branches, dist, branch_df = extractBasin.getCatchment(dataset2, pt_x, pt_y, fa_thres=25)"
   ]
  },
  {
   "cell_type": "markdown",
   "metadata": {},
   "source": [
    "This function returns a list of branches (segments of the main streams of the river), that we can then visualise:"
   ]
  },
  {
   "cell_type": "code",
   "execution_count": null,
   "metadata": {},
   "outputs": [],
   "source": [
    "sns.set_palette('husl')\n",
    "fig, ax = plt.subplots(figsize=(8,8))\n",
    "\n",
    "plt.xlim(grid.bbox[0], grid.bbox[2])\n",
    "plt.ylim(grid.bbox[1], grid.bbox[3])\n",
    "ax.set_aspect('equal')\n",
    "\n",
    "for branch in branches['features']:\n",
    "    line = np.asarray(branch['geometry']['coordinates'])\n",
    "    plt.plot(line[:, 0], line[:, 1])\n",
    "    \n",
    "\n",
    "plt.xlabel('x')\n",
    "plt.ylabel('y')\n",
    "_ = plt.title('Channels', size=10)\n",
    "plt.tight_layout()\n",
    "plt.show()"
   ]
  },
  {
   "cell_type": "code",
   "execution_count": null,
   "metadata": {},
   "outputs": [],
   "source": [
    "fig, ax = plt.subplots(figsize=(8,8))\n",
    "fig.patch.set_alpha(0)\n",
    "plt.grid('on', zorder=0)\n",
    "\n",
    "im = ax.imshow(dist, extent=grid.extent, zorder=2,\n",
    "               cmap='cubehelix_r')\n",
    "plt.colorbar(im, ax=ax, label='Distance to outlet (cells)')\n",
    "\n",
    "for branch in branches['features']:\n",
    "    line = np.asarray(branch['geometry']['coordinates'])\n",
    "    plt.plot(line[:, 0], line[:, 1], c='b', lw=1)\n",
    "\n",
    "plt.xlabel('x')\n",
    "plt.ylabel('y')\n",
    "plt.title('Flow Distance', size=10)\n",
    "plt.tight_layout()\n",
    "plt.show()"
   ]
  },
  {
   "cell_type": "code",
   "execution_count": null,
   "metadata": {},
   "outputs": [],
   "source": [
    "plt.figure(figsize=(8,4))\n",
    "ax = plt.gca()\n",
    "\n",
    "for b in range(len(branch_df)):\n",
    "    br = branch_df[b]\n",
    "    plt.plot(br.dist, br.z, lw=2, c='k')\n",
    "    \n",
    "plt.xlabel('Outlet distance (m)')\n",
    "plt.ylabel('elevation (m)')\n",
    "plt.title('River longitudinal profile', size=10)\n",
    "plt.tight_layout()\n",
    "plt.show()"
   ]
  },
  {
   "cell_type": "markdown",
   "metadata": {},
   "source": [
    "### Escarpment retreat"
   ]
  },
  {
   "cell_type": "code",
   "execution_count": null,
   "metadata": {},
   "outputs": [],
   "source": [
    "meands = dataset2.mean(dim='x')\n",
    "maxds = dataset2.max(dim='x')\n",
    "minds = dataset2.min(dim='x')\n",
    "\n",
    "escarpment_pos_mean = meands.elevation.where(meands.elevation==meands.elevation.max(), drop=True).squeeze().y.values\n",
    "escarpment_pos_max = maxds.elevation.where(maxds.elevation==maxds.elevation.max(), drop=True).squeeze().y.values\n",
    "escarpment_pos_min = minds.elevation.where(minds.elevation==minds.elevation.max(), drop=True).squeeze().y.values\n"
   ]
  },
  {
   "cell_type": "code",
   "execution_count": null,
   "metadata": {},
   "outputs": [],
   "source": [
    "\n",
    "plt.figure(figsize=(8,4))\n",
    "ax = plt.gca()\n",
    "\n",
    "meands.elevation.plot(lw=2,c='k',label='mean')\n",
    "maxds.elevation.plot(lw=1,c='b',ls='-.',label='max')\n",
    "minds.elevation.plot(lw=1,c='r',ls='-.',label='min')\n",
    "\n",
    "plt.scatter(escarpment_pos_mean,meands.elevation.max(),c='w',s=30,edgecolors='k',zorder=2)\n",
    "plt.scatter(escarpment_pos_min,minds.elevation.max(),c='w',s=30,edgecolors='r',zorder=2)\n",
    "plt.scatter(escarpment_pos_max,maxds.elevation.max(),c='w',s=30,edgecolors='b',zorder=2)\n",
    "\n",
    "plt.xlabel('Distance y-axis (m)')\n",
    "plt.ylabel('elevation (m)')\n",
    "plt.title('Cross-escarpment profile for a specific time step', size=10)\n",
    "plt.ylim(0,1800)\n",
    "plt.xlim(dataset2.y.min(),dataset2.y.max())\n",
    "plt.legend(frameon=False, loc=\"lower right\")\n",
    "plt.tight_layout()\n",
    "plt.show()"
   ]
  },
  {
   "cell_type": "markdown",
   "metadata": {},
   "source": [
    "To evaluate the escarpment evolution over time:"
   ]
  },
  {
   "cell_type": "code",
   "execution_count": null,
   "metadata": {},
   "outputs": [],
   "source": [
    "escpt_mean = []\n",
    "escpt_max = []\n",
    "escpt_min = []\n",
    "\n",
    "escpt_pos_mean = []\n",
    "escpt_pos_max = []\n",
    "escpt_pos_min = []\n",
    "\n",
    "for s in range(1,51):\n",
    "    # Open netcdf data file for the considered time step\n",
    "    dataset = xr.open_dataset(out_path+'data'+str(s)+'.nc')\n",
    "    \n",
    "    # Get escarpment longitudinal profile information\n",
    "    meands = dataset.mean(dim='x')\n",
    "    maxds = dataset.max(dim='x')\n",
    "    minds = dataset.min(dim='x')\n",
    "    escpt_mean.append(meands)\n",
    "    escpt_max.append(maxds)\n",
    "    escpt_min.append(minds)\n",
    "\n",
    "    # Get escarpment position\n",
    "    maxz_mean = meands.elevation.max().values\n",
    "    maxz_min = minds.elevation.max().values\n",
    "    maxz_max = maxds.elevation.max().values\n",
    "\n",
    "    escarpment_pos_mean = meands.elevation.where(meands.elevation==maxz_mean, drop=True).squeeze().y.values\n",
    "    escarpment_pos_max = maxds.elevation.where(maxds.elevation==maxz_max, drop=True).squeeze().y.values\n",
    "    escarpment_pos_min = minds.elevation.where(minds.elevation==maxz_min, drop=True).squeeze().y.values\n",
    "    \n",
    "    escpt_pos_mean.append([escarpment_pos_mean,maxz_mean])\n",
    "    escpt_pos_max.append([escarpment_pos_max,maxz_max])\n",
    "    escpt_pos_min.append([escarpment_pos_min,maxz_min])\n",
    "    "
   ]
  },
  {
   "cell_type": "code",
   "execution_count": null,
   "metadata": {},
   "outputs": [],
   "source": [
    "plt.figure(figsize=(8,3))\n",
    "ax = plt.gca()\n",
    "\n",
    "cmap = plt.get_cmap('gray_r', len(escpt_mean)+1) \n",
    "    \n",
    "for k in range(0,len(escpt_mean)):\n",
    "    meands = escpt_mean[k]\n",
    "    escarpment_pos_mean = escpt_pos_mean[k]\n",
    "    meands.elevation.plot(lw=1,ls='-.',c=cmap(k),alpha=0.2)\n",
    "    plt.scatter(escarpment_pos_mean[0],escarpment_pos_mean[1],c='w',\n",
    "                s=30,edgecolors=cmap(k),zorder=2,alpha=0.2)\n",
    "\n",
    "\n",
    "for k in range(0,len(escpt_mean),5):\n",
    "    meands = escpt_mean[k]\n",
    "    escarpment_pos_mean = escpt_pos_mean[k]\n",
    "    meands.elevation.plot(lw=1,c='k')\n",
    "    plt.scatter(escarpment_pos_mean[0],escarpment_pos_mean[1],c='w',\n",
    "                s=30,edgecolors=cmap(k),zorder=4)\n",
    "\n",
    "k = 49\n",
    "meands = escpt_mean[k]\n",
    "escarpment_pos_mean = escpt_pos_mean[k]\n",
    "meands.elevation.plot(lw=0.5,c='k')\n",
    "plt.scatter(escarpment_pos_mean[0],escarpment_pos_mean[1],c='w',\n",
    "            s=30,edgecolors=cmap(k),zorder=4)\n",
    "\n",
    "val = np.asarray(escpt_pos_mean)\n",
    "plt.plot(val[:,0],val[:,1],lw=3,c='k',label='mean')\n",
    "val = np.asarray(escpt_pos_min)\n",
    "plt.plot(val[:,0],val[:,1],lw=2,c='r',label='min')\n",
    "val = np.asarray(escpt_pos_max)\n",
    "plt.plot(val[1:,0],val[1:,1],lw=2,c='b',label='max')\n",
    "\n",
    "plt.xlabel('Distance y-axis (m)')\n",
    "plt.ylabel('elevation (m)')\n",
    "plt.title('Cross-escarpment profile through time', size=10)\n",
    "plt.ylim(0,1800)\n",
    "# plt.xlim(dataset.y.min(),dataset.y.max())\n",
    "plt.legend(frameon=False, loc=\"lower right\")\n",
    "plt.tight_layout()\n",
    "plt.show()"
   ]
  },
  {
   "cell_type": "code",
   "execution_count": null,
   "metadata": {},
   "outputs": [],
   "source": [
    "plt.figure(figsize=(8,3))\n",
    "ax = plt.gca()\n",
    "\n",
    "\n",
    "k = 1\n",
    "escpt_mean[k].elevation.plot(lw=0.5,c='k')\n",
    "escpt_max[k].elevation.plot(lw=0.5,c='b')\n",
    "escpt_min[k].elevation.plot(lw=0.5,c='r')\n",
    "\n",
    "k = 30\n",
    "escpt_mean[k].elevation.plot(lw=0.5,c='k')\n",
    "escpt_max[k].elevation.plot(lw=0.5,c='b')\n",
    "escpt_min[k].elevation.plot(lw=0.5,c='r')\n",
    "\n",
    "k = 49\n",
    "escpt_mean[k].elevation.plot(lw=0.5,c='k')\n",
    "escpt_max[k].elevation.plot(lw=0.5,c='b')\n",
    "escpt_min[k].elevation.plot(lw=0.5,c='r')\n",
    "\n",
    "val = np.asarray(escpt_pos_mean)\n",
    "plt.plot(val[:,0],val[:,1],lw=2,c='k',label='mean')\n",
    "val2 = np.asarray(escpt_pos_min)\n",
    "plt.plot(val2[:,0],val2[:,1],lw=2,c='r',label='min')\n",
    "val3 = np.asarray(escpt_pos_max)\n",
    "plt.plot(val3[1:,0],val3[1:,1],lw=2,c='b',label='max')\n",
    "\n",
    "\n",
    "plt.xlabel('Distance y-axis (m)')\n",
    "plt.ylabel('elevation (m)')\n",
    "plt.title('Cross-escarpment profile through time', size=10)\n",
    "plt.ylim(0,1800)\n",
    "# plt.xlim(dataset.y.min(),dataset.y.max())\n",
    "plt.legend(frameon=False, loc=\"lower right\")\n",
    "plt.tight_layout()\n",
    "plt.show()"
   ]
  },
  {
   "cell_type": "code",
   "execution_count": null,
   "metadata": {},
   "outputs": [],
   "source": [
    "plt.figure(figsize=(8,4))\n",
    "ax = plt.gca()\n",
    "\n",
    "k = 1\n",
    "escpt_mean[k].elevation.plot(lw=0.5,c='k')\n",
    "escpt_max[k].elevation.plot(lw=0.5,c='b')\n",
    "escpt_min[k].elevation.plot(lw=0.5,c='r')\n",
    "\n",
    "k = 30\n",
    "escpt_mean[k].elevation.plot(lw=0.5,c='k')\n",
    "escpt_max[k].elevation.plot(lw=0.5,c='b')\n",
    "escpt_min[k].elevation.plot(lw=0.5,c='r')\n",
    "\n",
    "k = 49\n",
    "escpt_mean[k].elevation.plot(lw=0.5,c='k')\n",
    "escpt_max[k].elevation.plot(lw=0.5,c='b')\n",
    "escpt_min[k].elevation.plot(lw=0.5,c='r')\n",
    "\n",
    "val = np.asarray(escpt_pos_mean)\n",
    "plt.plot(val[:,0],val[:,1],lw=2,c='k',label='mean')\n",
    "val2 = np.asarray(escpt_pos_min)\n",
    "plt.plot(val2[:,0],val2[:,1],lw=2,c='r',label='min')\n",
    "val3 = np.asarray(escpt_pos_max)\n",
    "plt.plot(val3[1:,0],val3[1:,1],lw=2,c='b',label='max')\n",
    "\n",
    "\n",
    "plt.xlabel('Distance y-axis (m)')\n",
    "plt.ylabel('elevation (m)')\n",
    "plt.title('Cross-escarpment profile through time', size=10)\n",
    "plt.ylim(0,1800)\n",
    "# plt.xlim(dataset.y.min(),4.65*1.e6)\n",
    "plt.legend(frameon=False, loc=\"lower right\")\n",
    "plt.tight_layout()\n",
    "plt.show()"
   ]
  },
  {
   "cell_type": "markdown",
   "metadata": {},
   "source": [
    "### Flexural response"
   ]
  },
  {
   "cell_type": "code",
   "execution_count": null,
   "metadata": {},
   "outputs": [],
   "source": [
    "flex_mean = []\n",
    "flex_max = []\n",
    "flex_min = []\n",
    "\n",
    "for s in range(1,50):\n",
    "    # Open netcdf data file for the considered time step\n",
    "    dataset = xr.open_dataset(out_path+'data'+str(s)+'.nc')\n",
    "    \n",
    "    # Get escarpment longitudinal profile information\n",
    "    meands = dataset.mean(dim='x')\n",
    "    maxds = dataset.max(dim='x')\n",
    "    minds = dataset.min(dim='x')\n",
    "    flex_mean.append(meands)\n",
    "    flex_max.append(maxds)\n",
    "    flex_min.append(minds)"
   ]
  },
  {
   "cell_type": "code",
   "execution_count": null,
   "metadata": {},
   "outputs": [],
   "source": [
    "plt.figure(figsize=(8,3))\n",
    "ax = plt.gca()\n",
    "\n",
    "cmap = plt.get_cmap('Blues', 51) \n",
    "\n",
    "for k in range(1,49):\n",
    "    val = flex_mean[k].flex-flex_mean[k-1].flex\n",
    "    val.plot(lw=0.4,ls='-.',c='k',alpha=0.3)\n",
    "    if k%5 == 0:\n",
    "        val.plot(lw=2,c=cmap(k),label='step '+str(k))\n",
    "\n",
    "plt.xlabel('Distance y-axis (m)')\n",
    "plt.ylabel('Flexural response (m/Myr)')\n",
    "plt.title('Cross-escarpment isostatic adjustments through time', size=10)\n",
    "plt.xlim(dataset.y.min()+750,dataset.y.max()-750)\n",
    "plt.legend(frameon=False, loc=\"upper right\",bbox_to_anchor=(1.15, 1.05), fontsize=8)\n",
    "plt.tight_layout()\n",
    "plt.show()"
   ]
  },
  {
   "cell_type": "code",
   "execution_count": null,
   "metadata": {},
   "outputs": [],
   "source": []
  }
 ],
 "metadata": {
  "kernelspec": {
   "display_name": "gospl-global",
   "language": "python",
   "name": "python3"
  },
  "language_info": {
   "codemirror_mode": {
    "name": "ipython",
    "version": 3
   },
   "file_extension": ".py",
   "mimetype": "text/x-python",
   "name": "python",
   "nbconvert_exporter": "python",
   "pygments_lexer": "ipython3",
   "version": "3.11.8"
  }
 },
 "nbformat": 4,
 "nbformat_minor": 2
}
