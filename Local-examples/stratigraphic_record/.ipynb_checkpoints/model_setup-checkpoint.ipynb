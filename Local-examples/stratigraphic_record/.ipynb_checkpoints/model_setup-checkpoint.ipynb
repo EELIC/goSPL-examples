{
 "cells": [
  {
   "cell_type": "code",
   "execution_count": null,
   "metadata": {},
   "outputs": [],
   "source": [
    "import os\n",
    "import pandas as pd\n",
    "import numpy as np\n",
    "import xarray as xr\n",
    "\n",
    "# On Docker turn off the warning on PROJ by specifying the PROJ lib path (uncomment the following line)\n",
    "os.environ['PROJ_LIB'] = '/opt/conda/envs/gospl/share/proj'\n",
    "\n",
    "import meshplex\n",
    "from scipy.interpolate import interp1d\n",
    "from scipy.ndimage import gaussian_filter1d\n",
    "\n",
    "import warnings\n",
    "warnings.simplefilter(action='ignore', category=FutureWarning)\n",
    "\n",
    "from mpas_tools.mesh.interpolation import interp_bilin\n",
    "from perlin_noise import PerlinNoise\n",
    "\n",
    "import uxarray as uxr\n",
    "import meshio\n",
    "\n",
    "from scripts import umeshFcts as ufcts\n",
    "\n",
    "import matplotlib.pyplot as plt\n",
    "%matplotlib inline\n"
   ]
  },
  {
   "cell_type": "markdown",
   "metadata": {},
   "source": [
    "# Create the mesh"
   ]
  },
  {
   "cell_type": "code",
   "execution_count": null,
   "metadata": {},
   "outputs": [],
   "source": [
    "length = 200e3  # in meter\n",
    "width = 100e3  # in meter\n",
    "grid_resolution = 1000.  # in meter\n",
    "node_x = int(length/grid_resolution+1)\n",
    "node_y = int(width/grid_resolution+1)\n",
    "node_x, node_y"
   ]
  },
  {
   "cell_type": "code",
   "execution_count": null,
   "metadata": {},
   "outputs": [],
   "source": [
    "# Build initial surface profile based on given points\n",
    "xdata = np.array([0,50,60,100,200])*1000\n",
    "elev = np.array([300,40,10,0,-500])\n",
    "\n",
    "f = interp1d(xdata, elev)\n",
    "xnew = np.linspace(0, length, node_x)\n",
    "ynew = np.linspace(0, width, node_y)\n",
    "elev_new = f(xnew)\n",
    "elev_new_gs = gaussian_filter1d(elev_new,sigma=10) \n",
    "\n",
    "# Visualize the profile\n",
    "fig = plt.figure(figsize = (6,3))\n",
    "plt.rc(\"font\", size=12)\n",
    "ax = fig.add_axes([0.11, 0.18, 0.85, 0.74])\n",
    "ax.scatter(xdata/1e3, elev) \n",
    "ax.plot(xnew/1e3,elev_new)\n",
    "ax.plot(xnew/1e3, elev_new_gs)\n",
    "ax.axhline(y=0., color='k', linestyle='--')\n",
    "ax.set_xlim([0,200])\n",
    "ax.set_ylim([-500,400]) \n",
    "ax.set_xlabel('Distance (km)')\n",
    "ax.set_ylabel('Elevation (m)')\n",
    "plt.show()"
   ]
  },
  {
   "cell_type": "code",
   "execution_count": null,
   "metadata": {},
   "outputs": [],
   "source": [
    "elev = np.broadcast_to(elev_new_gs, (node_x, node_x))[:node_y,:]"
   ]
  },
  {
   "cell_type": "code",
   "execution_count": null,
   "metadata": {},
   "outputs": [],
   "source": [
    "noise1 = PerlinNoise(octaves=3)\n",
    "noise2 = PerlinNoise(octaves=6)\n",
    "noise3 = PerlinNoise(octaves=12)\n",
    "noise4 = PerlinNoise(octaves=24)\n",
    "\n",
    "xpix = 101\n",
    "ypix = 201\n",
    "perlin = np.zeros((xpix,ypix))\n",
    "for i in range(xpix):\n",
    "    row = []\n",
    "    for j in range(ypix):\n",
    "        noise_val = noise1([i/xpix, j/ypix])\n",
    "        noise_val += 0.5 * noise2([i/xpix, j/ypix])\n",
    "        noise_val += 0.25 * noise3([i/xpix, j/ypix])\n",
    "        noise_val += 0.125 * noise4([i/xpix, j/ypix])\n",
    "\n",
    "        row.append(noise_val)\n",
    "    # pic.append(row)\n",
    "    perlin[i,:] = np.asarray(row)"
   ]
  },
  {
   "cell_type": "code",
   "execution_count": null,
   "metadata": {},
   "outputs": [],
   "source": [
    "noise = np.random.normal(0, 0.1, elev.shape)\n",
    "ds = xr.Dataset({\n",
    "    'elev': xr.DataArray(\n",
    "                data   = elev+perlin*1.5,\n",
    "                dims   = ['y','x'],\n",
    "                coords = {'x': xnew,'y': ynew},\n",
    "                ),\n",
    "        }\n",
    "    )\n",
    "\n",
    "anoise = (np.random.random_sample(elev.shape)+0.5)\n",
    "wdth = (['y','x'],500.*anoise)\n",
    "ds['cellwidth'] = (['y','x'],750.*(1+(perlin)))\n",
    "ds['u'] = (['y','x'],-0.05*np.ones(elev.shape))\n",
    "ds['v'] = (['y','x'],-0.05*np.ones(elev.shape))\n",
    "# ds.elev.plot()\n",
    "ds['cellwidth'].plot()"
   ]
  },
  {
   "cell_type": "code",
   "execution_count": null,
   "metadata": {},
   "outputs": [],
   "source": [
    "output_path = \"meshinputs0\" \n",
    "if not os.path.exists(output_path):\n",
    "    os.makedirs(output_path)\n",
    "\n",
    "ufcts.planarMesh(ds,output_path,fvtk='planar.vtk',fumpas=True,voro=True)"
   ]
  },
  {
   "cell_type": "markdown",
   "metadata": {},
   "source": [
    "The mesh (`base2D.nc`) is now stored in the output folder (here named `slope`). \n",
    "\n",
    "We will open this file and extract the information used in goSPL:"
   ]
  },
  {
   "cell_type": "code",
   "execution_count": null,
   "metadata": {},
   "outputs": [],
   "source": [
    "# Loading the UGRID file\n",
    "ufile = output_path+'/base2D.nc'\n",
    "var_name = 'data2'\n",
    "ugrid = uxr.open_grid(ufile) \n",
    "\n",
    "# Perform the interpolation (bilinear) \n",
    "ufcts.inter2UGRID(ds[['elev','u','v']],ugrid,output_path,var_name,type='face',latlon=False)\n",
    "\n",
    "data_file = [output_path+'/'+var_name+'.nc']\n",
    "# Get the information related to the mesh: primal and dual mesh\n",
    "primal_mesh = uxr.open_dataset(ufile, *data_file, use_dual=False)\n",
    "dual_mesh = uxr.open_dataset(ufile, *data_file, use_dual=True)\n",
    "\n",
    "# Extract nodes and faces information\n",
    "ucoords = np.empty((dual_mesh.uxgrid.n_node,3))\n",
    "ucoords[:,0] = dual_mesh.uxgrid.node_x.values\n",
    "ucoords[:,1] = dual_mesh.uxgrid.node_y.values\n",
    "ucoords[:,2] = dual_mesh.uxgrid.node_z.values\n",
    "ufaces = primal_mesh.uxgrid.node_face_connectivity.values\n",
    "\n",
    "# Get information about your mesh:\n",
    "print(\"Number of nodes: \",len(ucoords),\" | number of faces \",len(ufaces))\n",
    "edge_min = np.round(dual_mesh.uxgrid.edge_node_distances.min().values/1000.+0.,2)\n",
    "edge_max = np.round(dual_mesh.uxgrid.edge_node_distances.max().values/1000.+0.,2)\n",
    "edge_mean = np.round(dual_mesh.uxgrid.edge_node_distances.mean().values/1000.+0.,2)\n",
    "print(\"edge range (km): min \",edge_min,\" | max \",edge_max,\" | mean \",edge_mean)"
   ]
  },
  {
   "cell_type": "markdown",
   "metadata": {},
   "source": [
    "We now read the created `vtk` file and add the interpolated variables to it:"
   ]
  },
  {
   "cell_type": "code",
   "execution_count": null,
   "metadata": {},
   "outputs": [],
   "source": [
    "mesh = meshio.read(output_path+'/planar.vtk')\n",
    "vertex = mesh.points\n",
    "cells = mesh.cells_dict['triangle']\n",
    "Umesh = meshplex.MeshTri(vertex, cells)\n",
    "Uarea = Umesh.control_volumes\n",
    "print('Cell area (km2): ',Uarea.min()*1.e-6,Uarea.max()*1.e-6)\n",
    "\n",
    "# Define mesh\n",
    "paleovtk = output_path+\"/init.vtk\"\n",
    "vis_mesh = meshio.Mesh(vertex, {\"triangle\": cells}, \n",
    "                       point_data={\"elev\": primal_mesh.elev.values,\n",
    "                                   \"u\": primal_mesh.u.values,\n",
    "                                   \"v\": primal_mesh.v.values,\n",
    "                                   },\n",
    "                       )\n",
    "\n",
    "# Write it disk\n",
    "meshio.write(paleovtk, vis_mesh)\n",
    "print(\"Writing VTK input file as {}\".format(paleovtk))"
   ]
  },
  {
   "cell_type": "markdown",
   "metadata": {},
   "source": [
    "### Creating goSPL input\n",
    "\n",
    "We will now create the inputs for goSPL. We first start by creating the input mesh defining our UGRID structure:"
   ]
  },
  {
   "cell_type": "markdown",
   "metadata": {},
   "source": [
    "Save the goSPL mesh:"
   ]
  },
  {
   "cell_type": "code",
   "execution_count": null,
   "metadata": {},
   "outputs": [],
   "source": [
    "out_path = \"inputs\" \n",
    "if not os.path.exists(out_path):\n",
    "    os.makedirs(out_path)\n",
    "meshname = out_path+\"/gospl_mesh\"\n",
    "np.savez_compressed(meshname, v=vertex, c=cells, \n",
    "                    z=primal_mesh.elev.data, uv=np.vstack((primal_mesh.u.data,primal_mesh.v.data)).T\n",
    "                    )"
   ]
  },
  {
   "cell_type": "markdown",
   "metadata": {},
   "source": [
    "Make a sea-level curve"
   ]
  },
  {
   "cell_type": "code",
   "execution_count": null,
   "metadata": {},
   "outputs": [],
   "source": [
    "def buildCurve(timeExt = None, timeStep = None, seaExt = None,\n",
    "                   ampExt = None, periodExt = None):\n",
    "        \"\"\"\n",
    "        Curve created which interpolate linearly the averaged values of sea-level\n",
    "        trends over the specified time period.\n",
    "\n",
    "        Parameters\n",
    "        ----------\n",
    "        variable: timeExt\n",
    "            Extent of the simulation time: start/end time (in years)\n",
    "\n",
    "        variable: timeStep\n",
    "            Discretisation step for time range (in years).\n",
    "\n",
    "        variable: seaExt\n",
    "            Sea level value for starting and ending times (in metres)\n",
    "\n",
    "        variable: ampExt\n",
    "            Amplitude of the sea level wave for starting and ending times (in metres)\n",
    "\n",
    "        variable: periodExt\n",
    "            Period of the sea level wave for starting and ending times (in years)\n",
    "        \"\"\"\n",
    "\n",
    "        dt = float(timeStep)\n",
    "        so = float(seaExt[0])\n",
    "        sm = float(seaExt[1])\n",
    "        to = float(timeExt[0])\n",
    "        tm = float(timeExt[1])+dt\n",
    "        Ao = float(ampExt[0])\n",
    "        Am = float(ampExt[1])\n",
    "        Po = float(periodExt[0])\n",
    "        Pm = float(periodExt[1])\n",
    "\n",
    "        time = np.arange(to,tm,dt,dtype=float)\n",
    "\n",
    "        # Sea-level\n",
    "        a0 = (sm - so)/(tm - to)\n",
    "        b0 = so - a0 * to\n",
    "        sl = a0 * time + b0\n",
    "        # Amplitude\n",
    "        a1 = (Am - Ao)/(tm - to)\n",
    "        b1 = Ao - a1 * to\n",
    "        A = a1 * time + b1\n",
    "        # Period\n",
    "        a2 = (Pm - Po)/(tm - to)\n",
    "        b2 = Po - a2 * to\n",
    "        P = a2 * time + b2\n",
    "\n",
    "        for t in range(len(time)):\n",
    "            sl[t] += A[t] * np.cos(2.* np.pi * (time[t] - to) / P[t])\n",
    "\n",
    "        return time, sl\n",
    "\n",
    "timeExt = [0.,5.e5]\n",
    "timeStep = 5.e3\n",
    "seaExt = [0.,-40]\n",
    "ampExt = [1,20]\n",
    "periodExt = [2.e4,1.e5]\n",
    "time, sl = buildCurve(timeExt,timeStep,seaExt,ampExt,periodExt)"
   ]
  },
  {
   "cell_type": "code",
   "execution_count": null,
   "metadata": {},
   "outputs": [],
   "source": [
    "# Visualize the profile\n",
    "fig = plt.figure(figsize = (6,3))\n",
    "plt.rc(\"font\", size=12)\n",
    "ax = fig.add_axes([0.11, 0.18, 0.85, 0.74])\n",
    "ax.plot(time/1000,sl)\n",
    "ax.set_xlabel('Time (ky)')\n",
    "ax.set_ylabel('Sea-level (m)')\n",
    "plt.show()"
   ]
  },
  {
   "cell_type": "markdown",
   "metadata": {},
   "source": [
    "Save it as file for goSPL simulation:"
   ]
  },
  {
   "cell_type": "code",
   "execution_count": null,
   "metadata": {},
   "outputs": [],
   "source": [
    "df = pd.DataFrame({'X':np.around(time, decimals=0),'Y':np.around(sl, decimals=3)})\n",
    "df.to_csv('inputs/sealevel.csv',columns=['X', 'Y'], sep=' ', index=False ,header=0)"
   ]
  },
  {
   "cell_type": "markdown",
   "metadata": {},
   "source": [
    "### Alternative approach to jigsaw using stripy\n",
    "\n",
    "This approach however does not ensure centroidal voronoi tessellation (CVT) sampling..."
   ]
  },
  {
   "cell_type": "code",
   "execution_count": null,
   "metadata": {},
   "outputs": [],
   "source": [
    "import stripy as stripy\n",
    "from mpas_tools.mesh.interpolation import interp_bilin\n",
    "\n",
    "xcoords = ds.x.values\n",
    "ycoords = ds.y.values\n",
    "\n",
    "vertices_xy = np.array([\n",
    "    [xcoords.min(), ycoords.min()],\n",
    "    [xcoords.max(), ycoords.min()],\n",
    "    [xcoords.max(), ycoords.max()],\n",
    "    [xcoords.min(), ycoords.max()],\n",
    "])\n",
    "vertices_x = vertices_xy.T[0]\n",
    "vertices_y = vertices_xy.T[1]"
   ]
  },
  {
   "cell_type": "code",
   "execution_count": null,
   "metadata": {},
   "outputs": [],
   "source": [
    "# Build the mesh\n",
    "# Changing the refinement level will increase the resolution...\n",
    "refLvl = 9\n",
    "triangulation = stripy.Triangulation(x=vertices_x, y=vertices_y, permute=True)\n",
    "refined_triangulation = stripy.Triangulation(x=vertices_x, y=vertices_y, refinement_levels=refLvl, permute=True)\n",
    "print('number of points in the triangular grid', refined_triangulation.npoints)"
   ]
  },
  {
   "cell_type": "code",
   "execution_count": null,
   "metadata": {},
   "outputs": [],
   "source": [
    "# Interpolate elevation on the triangular mesh\n",
    "zData = interp_bilin(xcoords, ycoords, ds['elev'].values, refined_triangulation.x, refined_triangulation.y)"
   ]
  },
  {
   "cell_type": "code",
   "execution_count": null,
   "metadata": {},
   "outputs": [],
   "source": [
    "out_path = \"inputs\" \n",
    "if not os.path.exists(out_path):\n",
    "    os.makedirs(out_path)\n",
    "    \n",
    "meshname = out_path+\"/gospl_mesh_stripy\"\n",
    "pts = np.zeros((len(zData),3))\n",
    "pts[:,:2] = refined_triangulation.points\n",
    "np.savez_compressed(meshname, v=pts, c=refined_triangulation.simplices, z=zData)"
   ]
  },
  {
   "cell_type": "code",
   "execution_count": null,
   "metadata": {},
   "outputs": [],
   "source": [
    "# You could chose to run it inline here but it is usually slower then running it from the terminal\n",
    "# !mpirun --allow-run-as-root -np 10 python runModel.py -i input-strati-stripy.yml "
   ]
  },
  {
   "cell_type": "code",
   "execution_count": null,
   "metadata": {},
   "outputs": [],
   "source": []
  }
 ],
 "metadata": {
  "kernelspec": {
   "display_name": "Python 3 (ipykernel)",
   "language": "python",
   "name": "python3"
  },
  "language_info": {
   "codemirror_mode": {
    "name": "ipython",
    "version": 3
   },
   "file_extension": ".py",
   "mimetype": "text/x-python",
   "name": "python",
   "nbconvert_exporter": "python",
   "pygments_lexer": "ipython3",
   "version": "3.11.0"
  }
 },
 "nbformat": 4,
 "nbformat_minor": 4
}
